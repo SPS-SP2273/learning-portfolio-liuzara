{
 "cells": [
  {
   "attachments": {},
   "cell_type": "markdown",
   "id": "123456",
   "metadata": {},
   "source": [
    "<div style=\"text-align:left;font-size:2em\"><span style=\"font-weight:bolder;font-size:1.25em\">SP2273 | Learning Portfolio</span><br><br><span style=\"font-weight:bold;color:darkred\">Files, Folders & OS (Need) Exercises</span></div>"
   ]
  },
  {
   "cell_type": "code",
   "execution_count": 4,
   "id": "b310839b",
   "metadata": {},
   "outputs": [],
   "source": [
    "import os \n",
    "import glob\n",
    "import shutil"
   ]
  },
  {
   "cell_type": "code",
   "execution_count": null,
   "id": "720d8e03",
   "metadata": {},
   "outputs": [],
   "source": [
    "#Finds me all my txt files\n",
    "import glob\n",
    "import os\n",
    "import shutil\n",
    "\n",
    "#one hour later i find out that i was supposed to move laterally my current file...thanks past me -_-\n",
    "\n",
    "txt_files = glob.glob('os-collaboration-exercise-data/*.txt')     #if the ** function was used it would go though even the subfolders within the folder indicated so you would have to allow it to recur using recursive = True since its a commitment that python developers thought idiots like us probably should be spared from \n",
    "\n",
    "#cmd[ to remove indents all in one go  \n",
    "#this makes the file\n",
    "\n",
    "def make_new_file(name):\n",
    "    try:\n",
    "        os.mkdir(name)\n",
    "        print(f'yay success {name} created')\n",
    "    except FileExistsError:\n",
    "        print(f'{name} exists')\n",
    "    except FileNotFoundError:\n",
    "        print(f'code to zara where is{name}')\n",
    "    except NotADirectoryError:\n",
    "        print(f'{name}not a place you can create a file')\n",
    "    except:\n",
    "        print('literally every other possibility falls here youre cooked :)') # if this doesnt work idk what will \n",
    "    finally:\n",
    "        print('the most redundant line in this entire cell')\n",
    "\n",
    "def move_to_new_file(originalfilename, name):\n",
    "    for paths in originalfilename:\n",
    "        shutil.move(paths, name) #shutil.move(source path, destination path) destination path is just the folder since im lazy to write the full path name and shutil is smarter than me \n",
    "        #should i delete the non-txt files hmm\n",
    "    #i would be here a lot longer if shutil was as dumb as me \n",
    "    #past me 2.0 has tried to use copy(ahem append) and delete, my savior has provided me w the shutil move im useless without my AI...\n",
    "\n",
    "#make_new_file('txtfiles')\n",
    "#move_to_new_file(txt_files, 'txtfiles') #the filepath txtfiles is supposed to be a string\n",
    "\n",
    "def delete_uselessthings(to_delete):\n",
    "    shutil.rmtree(to_delete)\n",
    "\n",
    "#delete_uselessthings('os-collaboration-exercise-data')\n"
   ]
  },
  {
   "cell_type": "code",
   "execution_count": null,
   "id": "48530fee",
   "metadata": {},
   "outputs": [],
   "source": [
    "to_convert = {\n",
    "'jan': '01', 'feb': '02', 'mar': '03',\n",
    "'apr': '04', 'may': '05', 'jun': '06',\n",
    "'jul': '07', 'aug': '08', 'sep': '09',\n",
    "'oct': '10', 'nov': '11', 'dec': '12'\n",
    "}\n",
    "\n",
    "def rename_my_file():\n",
    "    try:\n",
    "        os.rename(old_file_path, new_file_path)\n",
    "\n",
    "\n",
    "\n",
    "for keys in key(to_convert):\n",
    "    "
   ]
  },
  {
   "cell_type": "code",
   "execution_count": 5,
   "id": "7a28829e",
   "metadata": {},
   "outputs": [
    {
     "name": "stdout",
     "output_type": "stream",
     "text": [
      "Help on built-in function remove in module posix:\n",
      "\n",
      "remove(path, *, dir_fd=None)\n",
      "    Remove a file (same as unlink()).\n",
      "    \n",
      "    If dir_fd is not None, it should be a file descriptor open to a directory,\n",
      "      and path should be relative; path will then be relative to that directory.\n",
      "    dir_fd may not be implemented on your platform.\n",
      "      If it is unavailable, using it will raise a NotImplementedError.\n",
      "\n"
     ]
    }
   ],
   "source": [
    "help(os.remove)"
   ]
  },
  {
   "cell_type": "code",
   "execution_count": 4,
   "id": "a0ada1b3",
   "metadata": {},
   "outputs": [
    {
     "name": "stdout",
     "output_type": "stream",
     "text": [
      "Help on function rmtree in module shutil:\n",
      "\n",
      "rmtree(path, ignore_errors=False, onerror=None, *, dir_fd=None)\n",
      "    Recursively delete a directory tree.\n",
      "    \n",
      "    If dir_fd is not None, it should be a file descriptor open to a directory;\n",
      "    path will then be relative to that directory.\n",
      "    dir_fd may not be implemented on your platform.\n",
      "    If it is unavailable, using it will raise a NotImplementedError.\n",
      "    \n",
      "    If ignore_errors is set, errors are ignored; otherwise, if onerror\n",
      "    is set, it is called to handle the error with arguments (func,\n",
      "    path, exc_info) where func is platform and implementation dependent;\n",
      "    path is the argument to that function that caused it to fail; and\n",
      "    exc_info is a tuple returned by sys.exc_info().  If ignore_errors\n",
      "    is false and onerror is None, an exception is raised.\n",
      "\n"
     ]
    }
   ],
   "source": [
    "help(shutil.rmtree)"
   ]
  },
  {
   "cell_type": "code",
   "execution_count": 8,
   "id": "e8908503",
   "metadata": {},
   "outputs": [
    {
     "name": "stdout",
     "output_type": "stream",
     "text": [
      "Help on built-in function mkdir in module posix:\n",
      "\n",
      "mkdir(path, mode=511, *, dir_fd=None)\n",
      "    Create a directory.\n",
      "    \n",
      "    If dir_fd is not None, it should be a file descriptor open to a directory,\n",
      "      and path should be relative; path will then be relative to that directory.\n",
      "    dir_fd may not be implemented on your platform.\n",
      "      If it is unavailable, using it will raise a NotImplementedError.\n",
      "    \n",
      "    The mode argument is ignored on Windows. Where it is used, the current umask\n",
      "    value is first masked out.\n",
      "\n"
     ]
    }
   ],
   "source": [
    "help(os.mkdir)"
   ]
  },
  {
   "cell_type": "code",
   "execution_count": 2,
   "id": "a25b7bb2",
   "metadata": {},
   "outputs": [
    {
     "data": {
      "text/plain": [
       "False"
      ]
     },
     "execution_count": 2,
     "metadata": {},
     "output_type": "execute_result"
    }
   ],
   "source": [
    "import os\n",
    "dir_to_access = 'os-collaboration-exercise-data'\n",
    "file_to_access = 'apr-02_cairo.txt'\n",
    "\n",
    "test_path = os.path.join(dir_to_access, file_to_access)\n",
    "os.path.exists(test_path)\n",
    "\n",
    "whattofind = os.path.join(dir_to_access, '*.txt')\n",
    "os.path.exists(whattofind)\n",
    "#glob.glob('os-collaboration-exercise-data/*')"
   ]
  },
  {
   "cell_type": "code",
   "execution_count": null,
   "id": "87db7a64",
   "metadata": {},
   "outputs": [
    {
     "name": "stdout",
     "output_type": "stream",
     "text": [
      "o\n",
      "s\n",
      "-\n",
      "c\n",
      "o\n",
      "l\n",
      "l\n",
      "a\n",
      "b\n",
      "o\n",
      "r\n",
      "a\n",
      "t\n",
      "i\n",
      "o\n",
      "n\n",
      "-\n",
      "e\n",
      "x\n",
      "e\n",
      "r\n",
      "c\n",
      "i\n",
      "s\n",
      "e\n",
      "-\n",
      "d\n",
      "a\n",
      "t\n",
      "a\n"
     ]
    }
   ],
   "source": [
    "for files in 'os-collaboration-exercise-data':\n",
    "    print(files)\n",
    "\n",
    "    /Users/Zara/Downloads/SP2273"
   ]
  },
  {
   "cell_type": "code",
   "execution_count": null,
   "id": "38b1f493",
   "metadata": {},
   "outputs": [],
   "source": []
  }
 ],
 "metadata": {
  "kernelspec": {
   "display_name": "Python 3",
   "language": "python",
   "name": "python3"
  },
  "language_info": {
   "codemirror_mode": {
    "name": "ipython",
    "version": 3
   },
   "file_extension": ".py",
   "mimetype": "text/x-python",
   "name": "python",
   "nbconvert_exporter": "python",
   "pygments_lexer": "ipython3",
   "version": "3.11.13"
  },
  "toc": {
   "base_numbering": 1,
   "nav_menu": {},
   "number_sections": true,
   "sideBar": true,
   "skip_h1_title": false,
   "title_cell": "Table of Contents",
   "title_sidebar": "Contents",
   "toc_cell": false,
   "toc_position": {},
   "toc_section_display": true,
   "toc_window_display": false
  },
  "vscode": {
   "interpreter": {
    "hash": "31f2aee4e71d21fbe5cf8b01ff0e069b9275f58929596ceb00d14d90e3e16cd6"
   }
  }
 },
 "nbformat": 4,
 "nbformat_minor": 5
}
