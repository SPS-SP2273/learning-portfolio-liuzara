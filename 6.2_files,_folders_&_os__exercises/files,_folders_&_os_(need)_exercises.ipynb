{
 "cells": [
  {
   "attachments": {},
   "cell_type": "markdown",
   "id": "123456",
   "metadata": {},
   "source": [
    "<div style=\"text-align:left;font-size:2em\"><span style=\"font-weight:bolder;font-size:1.25em\">SP2273 | Learning Portfolio</span><br><br><span style=\"font-weight:bold;color:darkred\">Files, Folders & OS (Need) Exercises</span></div>"
   ]
  },
  {
   "cell_type": "code",
   "execution_count": 4,
   "id": "b310839b",
   "metadata": {},
   "outputs": [],
   "source": [
    "import os \n",
    "import glob\n",
    "import shutil"
   ]
  },
  {
   "cell_type": "code",
   "execution_count": null,
   "id": "720d8e03",
   "metadata": {},
   "outputs": [],
   "source": [
    "#Finds me all my txt files\n",
    "import glob\n",
    "import os\n",
    "import shutil\n",
    "\n",
    "#one hour later i find out that i was supposed to move laterally my current file...thanks past me -_-\n",
    "\n",
    "txt_files = glob.glob('os-collaboration-exercise-data/*.txt')     #if the ** function was used it would go though even the subfolders within the folder indicated so you would have to allow it to recur using recursive = True since its a commitment that python developers thought idiots like us probably should be spared from \n",
    "\n",
    "#cmd[ to remove indents all in one go  \n",
    "#this makes the file\n",
    "\n",
    "def make_new_file(name):\n",
    "    try:\n",
    "        os.mkdir(name)\n",
    "        print(f'yay success {name} created')\n",
    "    except FileExistsError:\n",
    "        print(f'{name} exists')\n",
    "    except FileNotFoundError:\n",
    "        print(f'code to zara where is{name}')\n",
    "    except NotADirectoryError:\n",
    "        print(f'{name}not a place you can create a file')\n",
    "    except:\n",
    "        print('literally every other possibility falls here youre cooked :)') # if this doesnt work idk what will \n",
    "    finally:\n",
    "        print('the most redundant line in this entire cell')\n",
    "\n",
    "def move_to_new_file(originalfilename, name):\n",
    "    for paths in originalfilename:\n",
    "        shutil.move(paths, name) #shutil.move(source path, destination path) destination path is just the folder since im lazy to write the full path name and shutil is smarter than me \n",
    "        #should i delete the non-txt files hmm\n",
    "    #i would be here a lot longer if shutil was as dumb as me \n",
    "    #past me 2.0 has tried to use copy(ahem append) and delete, my savior has provided me w the shutil move im useless without my AI...\n",
    "\n",
    "#make_new_file('txtfiles')\n",
    "#move_to_new_file(txt_files, 'txtfiles') #the filepath txtfiles is supposed to be a string\n",
    "\n",
    "def delete_uselessthings(to_delete):\n",
    "    shutil.rmtree(to_delete)\n",
    "\n",
    "#delete_uselessthings('os-collaboration-exercise-data')\n"
   ]
  },
  {
   "cell_type": "code",
   "execution_count": null,
   "id": "48530fee",
   "metadata": {},
   "outputs": [
    {
     "name": "stdout",
     "output_type": "stream",
     "text": [
      "['txtfiles/dec-10_osaka.txt', 'txtfiles/jul-14_karachi.txt', 'txtfiles/nov-17_osaka.txt', 'txtfiles/jul-13_cairo.txt', 'txtfiles/jun-15_manila.txt', 'txtfiles/aug-20_tokyo.txt', 'txtfiles/jun-16_melbourne.txt', 'txtfiles/sep-05_tokyo.txt', 'txtfiles/jun-22_manila.txt', 'txtfiles/apr-11_shanghai.txt', 'txtfiles/sep-21_singapore.txt', 'txtfiles/feb-01_singapore.txt', 'txtfiles/may-09_manila.txt', 'txtfiles/jan-20_tokyo.txt', 'txtfiles/jan-30_manila.txt', 'txtfiles/jun-28_tokyo.txt', 'txtfiles/apr-16_shanghai.txt', 'txtfiles/dec-07_shanghai.txt', 'txtfiles/nov-03_singapore.txt', 'txtfiles/oct-07_dhaka.txt', 'txtfiles/aug-08_osaka.txt', 'txtfiles/apr-27_melbourne.txt', 'txtfiles/aug-29_karachi.txt', 'txtfiles/feb-12_dhaka.txt', 'txtfiles/oct-30_manila.txt', 'txtfiles/aug-27_dhaka.txt', 'txtfiles/jan-19_melbourne.txt', 'txtfiles/feb-13_shanghai.txt', 'txtfiles/jul-20_melbourne.txt', 'txtfiles/sep-11_tokyo.txt', 'txtfiles/aug-07_jakarta.txt', 'txtfiles/jan-08_osaka.txt', 'txtfiles/jun-25_jakarta.txt', 'txtfiles/sep-27_jakarta.txt', 'txtfiles/may-28_dhaka.txt', 'txtfiles/jul-14_jakarta.txt', 'txtfiles/oct-14_tokyo.txt', 'txtfiles/dec-04_osaka.txt', 'txtfiles/may-20_karachi.txt', 'txtfiles/aug-08_singapore.txt', 'txtfiles/nov-07_singapore.txt', 'txtfiles/jan-24_melbourne.txt', 'txtfiles/feb-05_singapore.txt', 'txtfiles/dec-10_karachi.txt', 'txtfiles/dec-19_tokyo.txt', 'txtfiles/oct-22_singapore.txt', 'txtfiles/sep-25_singapore.txt', 'txtfiles/aug-06_dhaka.txt', 'txtfiles/apr-04_shanghai.txt', 'txtfiles/dec-15_shanghai.txt', 'txtfiles/dec-27_cairo.txt', 'txtfiles/feb-12_singapore.txt', 'txtfiles/apr-02_karachi.txt', 'txtfiles/sep-11_manila.txt', 'txtfiles/jul-26_cairo.txt', 'txtfiles/apr-17_tokyo.txt', 'txtfiles/feb-20_tokyo.txt', 'txtfiles/dec-25_osaka.txt', 'txtfiles/oct-27_shanghai.txt', 'txtfiles/apr-03_tokyo.txt', 'txtfiles/may-30_cairo.txt', 'txtfiles/may-03_melbourne.txt', 'txtfiles/oct-17_jakarta.txt', 'txtfiles/sep-15_jakarta.txt', 'txtfiles/apr-02_jakarta.txt', 'txtfiles/mar-16_tokyo.txt', 'txtfiles/mar-26_manila.txt', 'txtfiles/feb-04_jakarta.txt', 'txtfiles/jul-08_karachi.txt', 'txtfiles/aug-29_manila.txt', 'txtfiles/feb-05_manila.txt', 'txtfiles/feb-01_shanghai.txt', 'txtfiles/jan-13_cairo.txt', 'txtfiles/jul-02_singapore.txt', 'txtfiles/jun-19_osaka.txt', 'txtfiles/jan-26_jakarta.txt', 'txtfiles/aug-20_jakarta.txt', 'txtfiles/feb-23_manila.txt', 'txtfiles/dec-02_melbourne.txt', 'txtfiles/nov-28_karachi.txt', 'txtfiles/oct-11_shanghai.txt', 'txtfiles/nov-18_melbourne.txt', 'txtfiles/apr-12_singapore.txt', 'txtfiles/feb-26_cairo.txt', 'txtfiles/apr-05_singapore.txt', 'txtfiles/jul-20_tokyo.txt', 'txtfiles/jun-25_tokyo.txt', 'txtfiles/dec-24_shanghai.txt', 'txtfiles/oct-16_shanghai.txt', 'txtfiles/feb-24_osaka.txt', 'txtfiles/dec-15_melbourne.txt', 'txtfiles/mar-07_melbourne.txt', 'txtfiles/jun-23_singapore.txt', 'txtfiles/aug-07_cairo.txt', 'txtfiles/sep-22_cairo.txt', 'txtfiles/may-04_manila.txt', 'txtfiles/apr-07_osaka.txt', 'txtfiles/sep-20_osaka.txt', 'txtfiles/mar-12_osaka.txt', 'txtfiles/nov-21_melbourne.txt', 'txtfiles/dec-09_osaka.txt', 'txtfiles/oct-19_tokyo.txt', 'txtfiles/jun-22_dhaka.txt', 'txtfiles/nov-09_manila.txt', 'txtfiles/may-03_shanghai.txt', 'txtfiles/jan-05_osaka.txt', 'txtfiles/aug-20_karachi.txt', 'txtfiles/jan-15_singapore.txt', 'txtfiles/jun-18_manila.txt', 'txtfiles/jan-07_cairo.txt', 'txtfiles/sep-14_melbourne.txt', 'txtfiles/jan-26_karachi.txt', 'txtfiles/nov-13_tokyo.txt', 'txtfiles/jun-09_singapore.txt', 'txtfiles/feb-11_osaka.txt', 'txtfiles/oct-03_shanghai.txt', 'txtfiles/aug-26_cairo.txt', 'txtfiles/aug-13_manila.txt', 'txtfiles/aug-04_melbourne.txt', 'txtfiles/apr-24_cairo.txt', 'txtfiles/may-07_jakarta.txt', 'txtfiles/jul-15_tokyo.txt', 'txtfiles/aug-24_manila.txt', 'txtfiles/apr-01_singapore.txt', 'txtfiles/feb-08_manila.txt', 'txtfiles/sep-01_osaka.txt', 'txtfiles/may-17_tokyo.txt', 'txtfiles/aug-24_osaka.txt', 'txtfiles/apr-14_manila.txt', 'txtfiles/may-04_dhaka.txt', 'txtfiles/jul-06_dhaka.txt', 'txtfiles/dec-28_osaka.txt', 'txtfiles/oct-21_manila.txt', 'txtfiles/oct-04_shanghai.txt', 'txtfiles/aug-12_jakarta.txt', 'txtfiles/aug-13_melbourne.txt', 'txtfiles/may-29_cairo.txt', 'txtfiles/sep-09_shanghai.txt', 'txtfiles/apr-27_shanghai.txt', 'txtfiles/may-29_karachi.txt', 'txtfiles/jul-06_singapore.txt', 'txtfiles/nov-14_dhaka.txt', 'txtfiles/may-29_jakarta.txt', 'txtfiles/jul-01_karachi.txt', 'txtfiles/jul-28_singapore.txt', 'txtfiles/aug-12_karachi.txt', 'txtfiles/jul-12_dhaka.txt', 'txtfiles/jan-14_karachi.txt', 'txtfiles/may-10_dhaka.txt', 'txtfiles/jun-17_dhaka.txt', 'txtfiles/sep-15_osaka.txt', 'txtfiles/may-03_tokyo.txt', 'txtfiles/mar-27_osaka.txt', 'txtfiles/nov-25_melbourne.txt', 'txtfiles/jul-08_shanghai.txt', 'txtfiles/nov-15_manila.txt', 'txtfiles/dec-21_cairo.txt', 'txtfiles/jul-16_singapore.txt', 'txtfiles/mar-04_tokyo.txt', 'txtfiles/oct-26_shanghai.txt', 'txtfiles/sep-05_manila.txt', 'txtfiles/dec-23_osaka.txt', 'txtfiles/apr-05_shanghai.txt', 'txtfiles/nov-24_osaka.txt', 'txtfiles/aug-03_melbourne.txt', 'txtfiles/apr-12_karachi.txt', 'txtfiles/apr-11_tokyo.txt', 'txtfiles/oct-21_shanghai.txt', 'txtfiles/may-30_karachi.txt', 'txtfiles/nov-18_tokyo.txt', 'txtfiles/sep-25_dhaka.txt', 'txtfiles/apr-02_shanghai.txt', 'txtfiles/jul-18_jakarta.txt', 'txtfiles/sep-08_cairo.txt', 'txtfiles/oct-29_jakarta.txt', 'txtfiles/feb-14_jakarta.txt', 'txtfiles/jun-29_karachi.txt', 'txtfiles/jan-29_shanghai.txt', 'txtfiles/aug-14_dhaka.txt', 'txtfiles/feb-26_manila.txt', 'txtfiles/may-08_tokyo.txt', 'txtfiles/may-08_singapore.txt', 'txtfiles/sep-05_jakarta.txt', 'txtfiles/oct-07_jakarta.txt', 'txtfiles/nov-22_melbourne.txt', 'txtfiles/mar-04_jakarta.txt', 'txtfiles/dec-18_dhaka.txt', 'txtfiles/jan-23_jakarta.txt', 'txtfiles/sep-22_tokyo.txt', 'txtfiles/aug-18_cairo.txt', 'txtfiles/jul-05_singapore.txt', 'txtfiles/apr-18_osaka.txt', 'txtfiles/mar-18_jakarta.txt', 'txtfiles/dec-06_shanghai.txt', 'txtfiles/apr-17_shanghai.txt', 'txtfiles/aug-10_melbourne.txt', 'txtfiles/jan-24_manila.txt', 'txtfiles/sep-19_jakarta.txt', 'txtfiles/apr-15_singapore.txt', 'txtfiles/aug-17_karachi.txt', 'txtfiles/may-17_cairo.txt', 'txtfiles/jul-15_cairo.txt', 'txtfiles/feb-13_tokyo.txt', 'txtfiles/nov-10_manila.txt', 'txtfiles/apr-24_tokyo.txt', 'txtfiles/oct-06_tokyo.txt', 'txtfiles/apr-10_shanghai.txt', 'txtfiles/nov-08_melbourne.txt', 'txtfiles/jun-12_osaka.txt', 'txtfiles/jul-04_karachi.txt', 'txtfiles/apr-20_karachi.txt', 'txtfiles/apr-20_jakarta.txt', 'txtfiles/feb-08_karachi.txt', 'txtfiles/aug-21_manila.txt', 'txtfiles/aug-16_manila.txt', 'txtfiles/sep-17_tokyo.txt', 'txtfiles/jun-06_osaka.txt', 'txtfiles/jul-04_jakarta.txt', 'txtfiles/feb-12_shanghai.txt', 'txtfiles/dec-02_osaka.txt', 'txtfiles/aug-17_jakarta.txt', 'txtfiles/feb-07_tokyo.txt', 'txtfiles/nov-26_melbourne.txt', 'txtfiles/feb-26_jakarta.txt', 'txtfiles/feb-14_dhaka.txt', 'txtfiles/apr-23_dhaka.txt', 'txtfiles/may-26_shanghai.txt', 'txtfiles/oct-01_dhaka.txt', 'txtfiles/mar-19_osaka.txt', 'txtfiles/may-02_jakarta.txt', 'txtfiles/feb-15_shanghai.txt', 'txtfiles/jul-07_manila.txt', 'txtfiles/sep-13_melbourne.txt', 'txtfiles/oct-13_manila.txt', 'txtfiles/jul-21_manila.txt', 'txtfiles/jan-22_osaka.txt', 'txtfiles/sep-08_shanghai.txt', 'txtfiles/oct-02_manila.txt', 'txtfiles/jun-28_cairo.txt', 'txtfiles/jun-05_dhaka.txt', 'txtfiles/may-02_dhaka.txt', 'txtfiles/jul-16_manila.txt', 'txtfiles/jan-20_cairo.txt', 'txtfiles/feb-02_singapore.txt', 'txtfiles/jan-04_jakarta.txt', 'txtfiles/nov-06_dhaka.txt', 'txtfiles/mar-23_jakarta.txt', 'txtfiles/mar-09_tokyo.txt', 'txtfiles/aug-02_jakarta.txt', 'txtfiles/oct-05_shanghai.txt', 'txtfiles/apr-21_shanghai.txt', 'txtfiles/jun-15_melbourne.txt', 'txtfiles/aug-20_cairo.txt', 'txtfiles/sep-05_cairo.txt', 'txtfiles/feb-15_singapore.txt', 'txtfiles/nov-15_tokyo.txt', 'txtfiles/may-17_jakarta.txt', 'txtfiles/oct-02_osaka.txt', 'txtfiles/apr-22_cairo.txt', 'txtfiles/aug-22_osaka.txt', 'txtfiles/sep-07_osaka.txt', 'txtfiles/jul-13_tokyo.txt', 'txtfiles/nov-17_singapore.txt', 'txtfiles/dec-27_jakarta.txt', 'txtfiles/mar-08_manila.txt', 'txtfiles/oct-02_shanghai.txt', 'txtfiles/jun-27_manila.txt', 'txtfiles/dec-27_karachi.txt', 'txtfiles/may-05_tokyo.txt', 'txtfiles/sep-13_osaka.txt', 'txtfiles/jun-10_manila.txt', 'txtfiles/may-04_melbourne.txt', 'txtfiles/oct-16_osaka.txt', 'txtfiles/may-17_karachi.txt', 'txtfiles/dec-06_tokyo.txt', 'txtfiles/dec-23_singapore.txt', 'txtfiles/nov-01_tokyo.txt', 'txtfiles/aug-19_dhaka.txt', 'txtfiles/jul-09_shanghai.txt', 'txtfiles/sep-11_cairo.txt', 'txtfiles/jul-23_melbourne.txt', 'txtfiles/feb-03_osaka.txt', 'txtfiles/feb-23_shanghai.txt', 'txtfiles/jan-02_manila.txt', 'txtfiles/aug-02_karachi.txt', 'txtfiles/dec-09_jakarta.txt', 'txtfiles/jan-04_karachi.txt', 'txtfiles/dec-23_manila.txt', 'txtfiles/jun-11_dhaka.txt', 'txtfiles/may-13_melbourne.txt', 'txtfiles/apr-24_melbourne.txt', 'txtfiles/sep-22_karachi.txt', 'txtfiles/nov-13_singapore.txt', 'txtfiles/may-25_jakarta.txt', 'txtfiles/feb-20_cairo.txt', 'txtfiles/oct-18_dhaka.txt', 'txtfiles/apr-17_cairo.txt', 'txtfiles/aug-17_osaka.txt', 'txtfiles/jun-23_tokyo.txt', 'txtfiles/jul-26_tokyo.txt', 'txtfiles/apr-19_melbourne.txt', 'txtfiles/jan-18_karachi.txt', 'txtfiles/jul-09_melbourne.txt', 'txtfiles/dec-25_shanghai.txt', 'txtfiles/dec-15_jakarta.txt', 'txtfiles/oct-21_singapore.txt', 'txtfiles/jun-06_melbourne.txt', 'txtfiles/oct-12_jakarta.txt', 'txtfiles/dec-19_cairo.txt', 'txtfiles/jan-15_cairo.txt', 'txtfiles/jan-27_melbourne.txt', 'txtfiles/jul-23_jakarta.txt', 'txtfiles/mar-11_jakarta.txt', 'txtfiles/apr-29_tokyo.txt', 'txtfiles/nov-04_singapore.txt', 'txtfiles/dec-22_shanghai.txt', 'txtfiles/jun-24_dhaka.txt', 'txtfiles/jun-28_melbourne.txt', 'txtfiles/jul-23_karachi.txt', 'txtfiles/nov-27_dhaka.txt', 'txtfiles/dec-20_dhaka.txt', 'txtfiles/jan-09_melbourne.txt', 'txtfiles/jun-12_karachi.txt', 'txtfiles/jul-30_melbourne.txt', 'txtfiles/sep-10_karachi.txt', 'txtfiles/sep-24_cairo.txt', 'txtfiles/aug-01_cairo.txt', 'txtfiles/may-27_manila.txt', 'txtfiles/jul-27_melbourne.txt', 'txtfiles/oct-18_singapore.txt', 'txtfiles/may-10_manila.txt', 'txtfiles/sep-26_osaka.txt', 'txtfiles/may-30_tokyo.txt', 'txtfiles/aug-03_osaka.txt', 'txtfiles/dec-28_shanghai.txt', 'txtfiles/jun-11_karachi.txt', 'txtfiles/apr-04_melbourne.txt', 'txtfiles/may-08_jakarta.txt', 'txtfiles/aug-26_dhaka.txt', 'txtfiles/dec-07_cairo.txt', 'txtfiles/jun-12_shanghai.txt', 'txtfiles/may-26_karachi.txt', 'txtfiles/jul-03_melbourne.txt', 'txtfiles/jan-19_manila.txt', 'txtfiles/sep-10_tokyo.txt', 'txtfiles/may-29_dhaka.txt', 'txtfiles/apr-13_melbourne.txt', 'txtfiles/may-24_melbourne.txt', 'txtfiles/apr-23_tokyo.txt', 'txtfiles/dec-16_jakarta.txt', 'txtfiles/feb-14_tokyo.txt', 'txtfiles/oct-19_manila.txt', 'txtfiles/oct-01_tokyo.txt', 'txtfiles/nov-16_osaka.txt', 'txtfiles/sep-04_tokyo.txt', 'txtfiles/jun-15_osaka.txt', 'txtfiles/oct-12_singapore.txt', 'txtfiles/dec-13_cairo.txt', 'txtfiles/nov-14_cairo.txt', 'txtfiles/feb-02_jakarta.txt', 'txtfiles/oct-05_singapore.txt', 'txtfiles/feb-07_manila.txt', 'txtfiles/mar-13_manila.txt', 'txtfiles/jun-29_tokyo.txt', 'txtfiles/nov-20_singapore.txt', 'txtfiles/oct-12_dhaka.txt', 'txtfiles/jul-11_shanghai.txt', 'txtfiles/sep-13_jakarta.txt', 'txtfiles/mar-24_manila.txt', 'txtfiles/oct-08_shanghai.txt', 'txtfiles/oct-20_tokyo.txt', 'txtfiles/jul-07_melbourne.txt', 'txtfiles/jun-07_shanghai.txt', 'txtfiles/jun-20_manila.txt', 'txtfiles/nov-18_dhaka.txt', 'txtfiles/dec-07_singapore.txt', 'txtfiles/jun-17_manila.txt', 'txtfiles/sep-05_shanghai.txt', 'txtfiles/feb-09_osaka.txt', 'txtfiles/sep-21_karachi.txt', 'txtfiles/jun-08_melbourne.txt', 'txtfiles/jul-12_karachi.txt', 'txtfiles/feb-08_singapore.txt', 'txtfiles/jan-29_melbourne.txt', 'txtfiles/jun-08_tokyo.txt', 'txtfiles/sep-19_osaka.txt', 'txtfiles/aug-26_shanghai.txt', 'txtfiles/nov-09_karachi.txt', 'txtfiles/aug-28_osaka.txt', 'txtfiles/may-19_melbourne.txt', 'txtfiles/nov-24_singapore.txt', 'txtfiles/jul-19_tokyo.txt', 'txtfiles/oct-27_dhaka.txt', 'txtfiles/mar-20_jakarta.txt', 'txtfiles/oct-05_manila.txt', 'txtfiles/jul-12_jakarta.txt', 'txtfiles/oct-01_singapore.txt', 'txtfiles/oct-23_jakarta.txt', 'txtfiles/sep-21_jakarta.txt', 'txtfiles/dec-26_cairo.txt', 'txtfiles/nov-21_cairo.txt', 'txtfiles/jul-03_shanghai.txt', 'txtfiles/dec-29_singapore.txt', 'txtfiles/aug-14_tokyo.txt', 'txtfiles/sep-11_singapore.txt', 'txtfiles/apr-07_manila.txt', 'txtfiles/oct-16_singapore.txt', 'txtfiles/nov-23_osaka.txt', 'txtfiles/jul-27_cairo.txt', 'txtfiles/may-25_cairo.txt', 'txtfiles/feb-21_tokyo.txt', 'txtfiles/sep-23_cairo.txt', 'txtfiles/jul-18_singapore.txt', 'txtfiles/jan-12_jakarta.txt', 'txtfiles/sep-21_osaka.txt', 'txtfiles/nov-02_melbourne.txt', 'txtfiles/aug-26_manila.txt', 'txtfiles/apr-23_jakarta.txt', 'txtfiles/aug-11_manila.txt', 'txtfiles/mar-29_manila.txt', 'txtfiles/apr-21_manila.txt', 'txtfiles/may-28_singapore.txt', 'txtfiles/oct-14_manila.txt', 'txtfiles/may-24_dhaka.txt', 'txtfiles/jun-23_dhaka.txt', 'txtfiles/aug-17_shanghai.txt', 'txtfiles/nov-20_dhaka.txt', 'txtfiles/oct-30_melbourne.txt', 'txtfiles/may-01_jakarta.txt', 'txtfiles/dec-27_dhaka.txt', 'txtfiles/jun-18_karachi.txt', 'txtfiles/sep-19_melbourne.txt', 'txtfiles/nov-19_cairo.txt', 'txtfiles/jan-23_manila.txt', 'txtfiles/jan-12_cairo.txt', 'txtfiles/jan-14_manila.txt', 'txtfiles/may-30_dhaka.txt', 'txtfiles/feb-19_tokyo.txt', 'txtfiles/may-06_singapore.txt', 'txtfiles/apr-26_singapore.txt', 'txtfiles/apr-10_cairo.txt', 'txtfiles/feb-18_shanghai.txt', 'txtfiles/may-23_tokyo.txt', 'txtfiles/aug-10_osaka.txt', 'txtfiles/nov-17_manila.txt', 'txtfiles/jan-12_karachi.txt', 'txtfiles/dec-20_tokyo.txt', 'txtfiles/aug-14_karachi.txt', 'txtfiles/apr-12_osaka.txt', 'txtfiles/mar-05_cairo.txt', 'txtfiles/nov-20_manila.txt', 'txtfiles/aug-12_cairo.txt', 'txtfiles/dec-03_jakarta.txt', 'txtfiles/feb-21_manila.txt', 'txtfiles/feb-13_melbourne.txt', 'txtfiles/sep-26_shanghai.txt', 'txtfiles/apr-08_shanghai.txt', 'txtfiles/aug-02_shanghai.txt', 'txtfiles/nov-15_dhaka.txt', 'txtfiles/mar-02_manila.txt', 'txtfiles/dec-19_shanghai.txt', 'txtfiles/jul-13_dhaka.txt', 'txtfiles/may-11_dhaka.txt', 'txtfiles/sep-28_karachi.txt', 'txtfiles/aug-26_jakarta.txt', 'txtfiles/jun-05_tokyo.txt', 'txtfiles/may-02_tokyo.txt', 'txtfiles/sep-14_osaka.txt', 'txtfiles/aug-05_shanghai.txt', 'txtfiles/sep-21_shanghai.txt', 'txtfiles/oct-08_manila.txt', 'txtfiles/sep-24_melbourne.txt', 'txtfiles/jun-04_jakarta.txt', 'txtfiles/mar-24_cairo.txt', 'txtfiles/sep-16_cairo.txt', 'txtfiles/oct-04_jakarta.txt', 'txtfiles/feb-04_osaka.txt', 'txtfiles/jan-19_tokyo.txt', 'txtfiles/sep-06_karachi.txt', 'txtfiles/feb-10_osaka.txt', 'txtfiles/sep-02_cairo.txt', 'txtfiles/nov-12_tokyo.txt', 'txtfiles/apr-22_singapore.txt', 'txtfiles/aug-25_osaka.txt', 'txtfiles/jun-11_tokyo.txt', 'txtfiles/jan-20_karachi.txt', 'txtfiles/jan-08_manila.txt', 'txtfiles/may-16_tokyo.txt', 'txtfiles/aug-27_melbourne.txt', 'txtfiles/aug-26_karachi.txt', 'txtfiles/nov-28_melbourne.txt', 'txtfiles/jan-25_osaka.txt', 'txtfiles/feb-17_karachi.txt', 'txtfiles/jun-02_dhaka.txt', 'txtfiles/may-05_dhaka.txt', 'txtfiles/jul-25_singapore.txt', 'txtfiles/dec-06_dhaka.txt', 'txtfiles/jan-27_cairo.txt', 'txtfiles/nov-01_dhaka.txt', 'txtfiles/dec-30_manila.txt', 'txtfiles/jan-17_karachi.txt', 'txtfiles/aug-11_karachi.txt', 'txtfiles/sep-03_shanghai.txt', 'txtfiles/nov-19_jakarta.txt', 'txtfiles/aug-19_melbourne.txt', 'txtfiles/apr-26_karachi.txt', 'txtfiles/nov-16_melbourne.txt', 'txtfiles/feb-20_dhaka.txt', 'txtfiles/jan-11_manila.txt', 'txtfiles/jan-26_manila.txt', 'txtfiles/jul-18_dhaka.txt', 'txtfiles/jun-06_shanghai.txt', 'txtfiles/oct-26_tokyo.txt', 'txtfiles/sep-04_shanghai.txt', 'txtfiles/jan-15_dhaka.txt', 'txtfiles/oct-09_shanghai.txt', 'txtfiles/dec-19_dhaka.txt', 'txtfiles/jun-03_manila.txt', 'txtfiles/mar-05_tokyo.txt', 'txtfiles/aug-12_tokyo.txt', 'txtfiles/apr-24_manila.txt', 'txtfiles/apr-13_manila.txt', 'txtfiles/feb-20_jakarta.txt', 'txtfiles/jul-02_shanghai.txt', 'txtfiles/apr-25_singapore.txt', 'txtfiles/feb-27_tokyo.txt', 'txtfiles/apr-10_tokyo.txt', 'txtfiles/may-12_singapore.txt', 'txtfiles/dec-22_osaka.txt', 'txtfiles/jun-09_dhaka.txt', 'txtfiles/nov-25_osaka.txt', 'txtfiles/oct-21_dhaka.txt', 'txtfiles/apr-26_jakarta.txt', 'txtfiles/oct-11_manila.txt', 'txtfiles/aug-11_jakarta.txt', 'txtfiles/jul-22_singapore.txt', 'txtfiles/jul-05_shanghai.txt', 'txtfiles/jan-12_tokyo.txt', 'txtfiles/mar-30_jakarta.txt', 'txtfiles/mar-16_dhaka.txt', 'txtfiles/sep-16_tokyo.txt', 'txtfiles/jun-07_singapore.txt', 'txtfiles/dec-01_cairo.txt', 'txtfiles/sep-11_shanghai.txt', 'txtfiles/nov-05_melbourne.txt', 'txtfiles/feb-06_tokyo.txt', 'txtfiles/may-02_cairo.txt', 'txtfiles/nov-04_osaka.txt', 'txtfiles/jun-28_dhaka.txt', 'txtfiles/jun-13_shanghai.txt', 'txtfiles/oct-13_tokyo.txt', 'txtfiles/jan-25_karachi.txt', 'txtfiles/sep-28_cairo.txt', 'txtfiles/jul-08_singapore.txt', 'txtfiles/aug-20_dhaka.txt', 'txtfiles/oct-19_melbourne.txt', 'txtfiles/may-18_karachi.txt', 'txtfiles/jul-30_jakarta.txt', 'txtfiles/aug-19_cairo.txt', 'txtfiles/jul-26_singapore.txt', 'txtfiles/jul-10_shanghai.txt', 'txtfiles/sep-03_jakarta.txt', 'txtfiles/feb-13_manila.txt', 'txtfiles/dec-28_karachi.txt', 'txtfiles/feb-01_dhaka.txt', 'txtfiles/may-01_singapore.txt', 'txtfiles/may-28_tokyo.txt', 'txtfiles/feb-24_manila.txt', 'txtfiles/oct-14_dhaka.txt', 'txtfiles/may-16_singapore.txt', 'txtfiles/jul-19_manila.txt', 'txtfiles/aug-24_melbourne.txt', 'txtfiles/jul-17_shanghai.txt', 'txtfiles/apr-21_singapore.txt', 'txtfiles/jul-14_cairo.txt', 'txtfiles/feb-12_tokyo.txt', 'txtfiles/jul-16_osaka.txt', 'txtfiles/sep-09_melbourne.txt', 'txtfiles/sep-02_tokyo.txt', 'txtfiles/jan-19_cairo.txt', 'txtfiles/jul-06_tokyo.txt', 'txtfiles/may-27_melbourne.txt', 'txtfiles/apr-10_melbourne.txt', 'txtfiles/oct-14_jakarta.txt', 'txtfiles/sep-16_jakarta.txt', 'txtfiles/feb-02_osaka.txt', 'txtfiles/jan-30_jakarta.txt', 'txtfiles/jul-08_manila.txt', 'txtfiles/aug-18_dhaka.txt', 'txtfiles/sep-20_shanghai.txt', 'txtfiles/aug-04_shanghai.txt', 'txtfiles/mar-17_jakarta.txt', 'txtfiles/dec-17_singapore.txt', 'txtfiles/apr-29_manila.txt', 'txtfiles/aug-19_manila.txt', 'txtfiles/jul-17_melbourne.txt', 'txtfiles/mar-16_manila.txt', 'txtfiles/mar-05_singapore.txt', 'txtfiles/apr-07_melbourne.txt', 'txtfiles/mar-14_shanghai.txt', 'txtfiles/may-30_melbourne.txt', 'txtfiles/dec-18_shanghai.txt', 'txtfiles/may-17_dhaka.txt', 'txtfiles/jul-15_dhaka.txt', 'txtfiles/sep-27_shanghai.txt', 'txtfiles/jul-01_dhaka.txt', 'txtfiles/apr-29_melbourne.txt', 'txtfiles/jun-04_dhaka.txt', 'txtfiles/dec-13_karachi.txt', 'txtfiles/jan-22_shanghai.txt', 'txtfiles/oct-06_singapore.txt', 'txtfiles/jan-21_cairo.txt', 'txtfiles/may-23_karachi.txt', 'txtfiles/nov-07_dhaka.txt', 'txtfiles/jan-30_karachi.txt', 'txtfiles/sep-29_dhaka.txt', 'txtfiles/jul-26_shanghai.txt', 'txtfiles/apr-21_osaka.txt', 'txtfiles/feb-16_osaka.txt', 'txtfiles/oct-11_singapore.txt', 'txtfiles/sep-04_cairo.txt', 'txtfiles/may-09_melbourne.txt', 'txtfiles/jul-25_karachi.txt', 'txtfiles/apr-23_cairo.txt', 'txtfiles/sep-06_osaka.txt', 'txtfiles/jun-17_tokyo.txt', 'txtfiles/jul-12_tokyo.txt', 'txtfiles/aug-06_singapore.txt', 'txtfiles/jun-25_dhaka.txt', 'txtfiles/aug-16_shanghai.txt', 'txtfiles/dec-21_dhaka.txt', 'txtfiles/oct-26_jakarta.txt', 'txtfiles/sep-25_cairo.txt', 'txtfiles/sep-24_jakarta.txt', 'txtfiles/apr-14_melbourne.txt', 'txtfiles/aug-02_osaka.txt', 'txtfiles/may-23_melbourne.txt', 'txtfiles/apr-02_cairo.txt', 'txtfiles/mar-25_jakarta.txt', 'txtfiles/aug-05_manila.txt', 'txtfiles/jun-12_manila.txt', 'txtfiles/jan-02_karachi.txt', 'txtfiles/jun-22_tokyo.txt', 'txtfiles/jul-27_tokyo.txt', 'txtfiles/aug-04_karachi.txt', 'txtfiles/jun-25_manila.txt', 'txtfiles/apr-14_osaka.txt', 'txtfiles/sep-12_singapore.txt', 'txtfiles/aug-14_cairo.txt', 'txtfiles/jan-13_melbourne.txt', 'txtfiles/nov-22_karachi.txt', 'txtfiles/dec-18_cairo.txt', 'txtfiles/apr-28_tokyo.txt', 'txtfiles/nov-27_singapore.txt', 'txtfiles/oct-08_jakarta.txt', 'txtfiles/jul-19_cairo.txt', 'txtfiles/jun-08_jakarta.txt', 'txtfiles/aug-25_melbourne.txt', 'txtfiles/oct-24_dhaka.txt', 'txtfiles/feb-27_manila.txt', 'txtfiles/feb-10_manila.txt', 'txtfiles/apr-06_jakarta.txt', 'txtfiles/sep-11_jakarta.txt', 'txtfiles/oct-13_jakarta.txt', 'txtfiles/jul-24_cairo.txt', 'txtfiles/jul-27_singapore.txt', 'txtfiles/feb-22_tokyo.txt', 'txtfiles/apr-15_tokyo.txt', 'txtfiles/jan-03_shanghai.txt', 'txtfiles/jan-19_karachi.txt', 'txtfiles/jul-09_dhaka.txt', 'txtfiles/jun-23_osaka.txt', 'txtfiles/apr-28_jakarta.txt', 'txtfiles/apr-19_singapore.txt', 'txtfiles/sep-26_tokyo.txt', 'txtfiles/mar-14_tokyo.txt', 'txtfiles/jul-09_singapore.txt', 'txtfiles/jun-18_dhaka.txt', 'txtfiles/jan-19_jakarta.txt', 'txtfiles/dec-18_manila.txt', 'txtfiles/jul-30_cairo.txt', 'txtfiles/jun-11_singapore.txt', 'txtfiles/apr-06_karachi.txt', 'txtfiles/sep-26_melbourne.txt', 'txtfiles/jun-06_singapore.txt', 'txtfiles/oct-30_dhaka.txt', 'txtfiles/aug-10_dhaka.txt', 'txtfiles/nov-08_tokyo.txt', 'txtfiles/jun-03_shanghai.txt', 'txtfiles/aug-25_shanghai.txt', 'txtfiles/nov-04_melbourne.txt', 'txtfiles/sep-18_cairo.txt', 'txtfiles/dec-10_cairo.txt', 'txtfiles/dec-26_jakarta.txt', 'txtfiles/apr-10_manila.txt', 'txtfiles/mar-18_manila.txt', 'txtfiles/nov-17_cairo.txt', 'txtfiles/may-04_singapore.txt', 'txtfiles/jul-13_osaka.txt', 'txtfiles/jun-16_osaka.txt', 'txtfiles/sep-07_tokyo.txt', 'txtfiles/aug-17_manila.txt', 'txtfiles/dec-12_osaka.txt', 'txtfiles/may-16_jakarta.txt', 'txtfiles/jul-23_singapore.txt', 'txtfiles/jul-15_shanghai.txt', 'txtfiles/apr-20_tokyo.txt', 'txtfiles/feb-04_dhaka.txt', 'txtfiles/oct-11_dhaka.txt', 'txtfiles/may-13_singapore.txt', 'txtfiles/jul-06_manila.txt', 'txtfiles/oct-25_manila.txt', 'txtfiles/jul-12_shanghai.txt', 'txtfiles/jun-21_jakarta.txt', 'txtfiles/jan-22_tokyo.txt', 'txtfiles/aug-08_cairo.txt', 'txtfiles/aug-25_dhaka.txt', 'txtfiles/oct-05_dhaka.txt', 'txtfiles/jan-25_manila.txt', 'txtfiles/jun-02_singapore.txt', 'txtfiles/oct-19_shanghai.txt', 'txtfiles/feb-03_tokyo.txt', 'txtfiles/jun-15_singapore.txt', 'txtfiles/jul-28_dhaka.txt', 'txtfiles/dec-06_osaka.txt', 'txtfiles/jun-11_shanghai.txt', 'txtfiles/jan-08_cairo.txt', 'txtfiles/dec-29_dhaka.txt', 'txtfiles/sep-13_tokyo.txt', 'txtfiles/jul-07_osaka.txt', 'txtfiles/dec-26_karachi.txt', 'txtfiles/nov-03_cairo.txt', 'txtfiles/nov-17_melbourne.txt', 'txtfiles/nov-25_karachi.txt', 'txtfiles/dec-04_cairo.txt', 'txtfiles/feb-09_jakarta.txt', 'txtfiles/jun-26_manila.txt', 'txtfiles/oct-29_dhaka.txt', 'txtfiles/may-15_tokyo.txt', 'txtfiles/sep-03_osaka.txt', 'txtfiles/jun-12_tokyo.txt', 'txtfiles/feb-24_singapore.txt', 'txtfiles/jan-05_melbourne.txt', 'txtfiles/jan-10_karachi.txt', 'txtfiles/aug-09_dhaka.txt', 'txtfiles/jul-24_shanghai.txt', 'txtfiles/nov-26_singapore.txt', 'txtfiles/aug-24_cairo.txt', 'txtfiles/sep-18_jakarta.txt', 'txtfiles/sep-09_manila.txt', 'txtfiles/may-03_karachi.txt', 'txtfiles/nov-02_dhaka.txt', 'txtfiles/jul-23_shanghai.txt', 'txtfiles/jan-12_melbourne.txt', 'txtfiles/sep-13_singapore.txt', 'txtfiles/apr-18_tokyo.txt', 'txtfiles/jul-29_cairo.txt', 'txtfiles/mar-16_shanghai.txt', 'txtfiles/jul-20_manila.txt', 'txtfiles/dec-05_singapore.txt', 'txtfiles/aug-01_shanghai.txt', 'txtfiles/sep-25_shanghai.txt', 'txtfiles/jul-10_dhaka.txt', 'txtfiles/may-03_jakarta.txt', 'txtfiles/nov-16_dhaka.txt', 'txtfiles/may-22_melbourne.txt', 'txtfiles/dec-11_dhaka.txt', 'txtfiles/jan-30_cairo.txt', 'txtfiles/apr-15_melbourne.txt', 'txtfiles/feb-27_jakarta.txt', 'txtfiles/feb-07_osaka.txt', 'txtfiles/nov-08_singapore.txt', 'txtfiles/jan-10_jakarta.txt', 'txtfiles/nov-05_tokyo.txt', 'txtfiles/may-01_tokyo.txt', 'txtfiles/mar-09_manila.txt', 'txtfiles/apr-21_jakarta.txt', 'txtfiles/jun-28_jakarta.txt', 'txtfiles/oct-10_singapore.txt', 'txtfiles/jan-16_melbourne.txt', 'txtfiles/jan-11_cairo.txt', 'txtfiles/dec-30_dhaka.txt', 'txtfiles/may-08_melbourne.txt', 'txtfiles/feb-26_osaka.txt', 'txtfiles/may-26_manila.txt', 'txtfiles/sep-04_karachi.txt', 'txtfiles/mar-06_cairo.txt', 'txtfiles/nov-24_tokyo.txt', 'txtfiles/may-11_manila.txt', 'txtfiles/sep-19_dhaka.txt', 'txtfiles/may-28_shanghai.txt', 'txtfiles/jan-22_karachi.txt', 'txtfiles/apr-13_cairo.txt', 'txtfiles/aug-13_osaka.txt', 'txtfiles/feb-20_singapore.txt', 'txtfiles/mar-04_osaka.txt', 'txtfiles/oct-07_singapore.txt', 'txtfiles/jul-16_melbourne.txt', 'txtfiles/sep-22_osaka.txt', 'txtfiles/mar-10_osaka.txt', 'txtfiles/apr-07_cairo.txt', 'txtfiles/oct-29_singapore.txt', 'txtfiles/dec-08_shanghai.txt', 'txtfiles/apr-19_shanghai.txt', 'txtfiles/aug-13_shanghai.txt', 'txtfiles/oct-28_manila.txt', 'txtfiles/aug-05_cairo.txt', 'txtfiles/mar-12_cairo.txt', 'txtfiles/sep-20_cairo.txt', 'txtfiles/oct-06_jakarta.txt', 'txtfiles/apr-13_jakarta.txt', 'txtfiles/apr-11_melbourne.txt', 'txtfiles/dec-09_cairo.txt', 'txtfiles/feb-01_manila.txt', 'txtfiles/may-26_melbourne.txt', 'txtfiles/mar-22_manila.txt', 'txtfiles/dec-24_dhaka.txt', 'txtfiles/jan-05_cairo.txt', 'txtfiles/jun-20_dhaka.txt', 'txtfiles/aug-14_shanghai.txt', 'txtfiles/may-27_dhaka.txt', 'txtfiles/jul-01_melbourne.txt', 'txtfiles/jul-08_cairo.txt', 'txtfiles/oct-28_karachi.txt', 'txtfiles/feb-15_jakarta.txt', 'txtfiles/feb-19_singapore.txt', 'txtfiles/dec-28_singapore.txt', 'txtfiles/may-28_karachi.txt', 'txtfiles/jul-29_tokyo.txt', 'txtfiles/jan-10_shanghai.txt', 'txtfiles/jan-11_melbourne.txt', 'txtfiles/apr-24_jakarta.txt', 'txtfiles/aug-13_jakarta.txt', 'txtfiles/jan-24_tokyo.txt', 'txtfiles/oct-06_manila.txt', 'txtfiles/jul-25_manila.txt', 'txtfiles/sep-01_tokyo.txt', 'txtfiles/nov-25_singapore.txt', 'txtfiles/jul-15_osaka.txt', 'txtfiles/apr-04_manila.txt', 'txtfiles/feb-18_manila.txt', 'txtfiles/aug-03_manila.txt', 'txtfiles/jul-17_cairo.txt', 'txtfiles/jan-06_melbourne.txt', 'txtfiles/feb-27_singapore.txt', 'txtfiles/jan-18_osaka.txt', 'txtfiles/dec-14_osaka.txt', 'txtfiles/sep-07_singapore.txt', 'txtfiles/nov-05_manila.txt', 'txtfiles/feb-05_tokyo.txt', 'txtfiles/sep-29_singapore.txt', 'txtfiles/may-01_cairo.txt', 'txtfiles/nov-05_cairo.txt', 'txtfiles/may-06_karachi.txt', 'txtfiles/jun-10_shanghai.txt', 'txtfiles/apr-01_melbourne.txt', 'txtfiles/mar-27_tokyo.txt', 'txtfiles/jun-04_osaka.txt', 'txtfiles/nov-28_dhaka.txt', 'txtfiles/aug-23_dhaka.txt', 'txtfiles/apr-16_melbourne.txt', 'txtfiles/oct-18_shanghai.txt', 'txtfiles/may-21_melbourne.txt', 'txtfiles/mar-19_cairo.txt', 'txtfiles/dec-18_jakarta.txt', 'txtfiles/dec-06_singapore.txt', 'txtfiles/sep-15_shanghai.txt', 'txtfiles/may-28_jakarta.txt', 'txtfiles/jul-06_melbourne.txt', 'txtfiles/sep-29_osaka.txt', 'txtfiles/dec-21_osaka.txt', 'txtfiles/sep-03_singapore.txt', 'txtfiles/oct-04_singapore.txt', 'txtfiles/may-18_shanghai.txt', 'txtfiles/feb-10_jakarta.txt', 'txtfiles/feb-23_singapore.txt', 'txtfiles/feb-24_tokyo.txt', 'txtfiles/dec-23_cairo.txt', 'txtfiles/dec-04_jakarta.txt', 'txtfiles/jan-09_karachi.txt', 'txtfiles/aug-02_dhaka.txt', 'txtfiles/oct-03_jakarta.txt', 'txtfiles/apr-16_jakarta.txt', 'txtfiles/jun-03_jakarta.txt', 'txtfiles/nov-29_karachi.txt', 'txtfiles/aug-21_jakarta.txt', 'txtfiles/jul-06_shanghai.txt', 'txtfiles/sep-08_osaka.txt', 'txtfiles/mar-10_manila.txt', 'txtfiles/feb-04_manila.txt', 'txtfiles/aug-28_manila.txt', 'txtfiles/oct-13_singapore.txt', 'txtfiles/jul-02_melbourne.txt', 'txtfiles/dec-02_singapore.txt', 'txtfiles/aug-21_karachi.txt', 'txtfiles/oct-03_karachi.txt', 'txtfiles/apr-16_karachi.txt', 'txtfiles/apr-12_melbourne.txt', 'txtfiles/dec-09_tokyo.txt', 'txtfiles/apr-05_melbourne.txt', 'txtfiles/aug-05_tokyo.txt', 'txtfiles/sep-20_tokyo.txt', 'txtfiles/sep-07_shanghai.txt', 'txtfiles/apr-29_shanghai.txt', 'txtfiles/apr-07_tokyo.txt', 'txtfiles/oct-25_tokyo.txt', 'txtfiles/nov-22_tokyo.txt', 'txtfiles/dec-25_tokyo.txt', 'txtfiles/feb-20_osaka.txt', 'txtfiles/may-05_manila.txt', 'txtfiles/sep-01_manila.txt', 'txtfiles/jun-16_karachi.txt', 'txtfiles/apr-15_cairo.txt', 'txtfiles/feb-22_cairo.txt', 'txtfiles/aug-15_osaka.txt', 'txtfiles/nov-08_manila.txt', 'txtfiles/jan-15_osaka.txt', 'txtfiles/nov-29_melbourne.txt', 'txtfiles/apr-23_singapore.txt', 'txtfiles/jul-09_jakarta.txt', 'txtfiles/aug-08_melbourne.txt', 'txtfiles/aug-15_shanghai.txt', 'txtfiles/feb-15_manila.txt', 'txtfiles/jul-09_karachi.txt', 'txtfiles/jan-03_cairo.txt', 'txtfiles/feb-22_manila.txt', 'txtfiles/dec-11_jakarta.txt', 'txtfiles/jan-01_osaka.txt', 'txtfiles/jul-23_dhaka.txt', 'txtfiles/may-21_dhaka.txt', 'txtfiles/jun-05_singapore.txt', 'txtfiles/jun-26_dhaka.txt', 'txtfiles/sep-24_osaka.txt', 'txtfiles/aug-12_shanghai.txt', 'txtfiles/apr-18_shanghai.txt', 'txtfiles/jul-27_jakarta.txt', 'txtfiles/oct-23_cairo.txt', 'txtfiles/oct-16_jakarta.txt', 'txtfiles/sep-26_cairo.txt', 'txtfiles/mar-14_cairo.txt', 'txtfiles/aug-03_cairo.txt', 'txtfiles/apr-03_osaka.txt', 'txtfiles/nov-10_melbourne.txt', 'txtfiles/mar-15_jakarta.txt', 'txtfiles/jul-28_manila.txt', 'txtfiles/dec-03_dhaka.txt', 'txtfiles/mar-09_jakarta.txt', 'txtfiles/jul-22_shanghai.txt', 'txtfiles/nov-04_dhaka.txt', 'txtfiles/jun-28_osaka.txt', 'txtfiles/aug-22_melbourne.txt', 'txtfiles/aug-28_jakarta.txt', 'txtfiles/nov-29_cairo.txt', 'txtfiles/jan-20_osaka.txt', 'txtfiles/jun-07_dhaka.txt', 'txtfiles/jul-02_dhaka.txt', 'txtfiles/apr-20_cairo.txt', 'txtfiles/feb-17_cairo.txt', 'txtfiles/jul-11_tokyo.txt', 'txtfiles/aug-20_osaka.txt', 'txtfiles/jun-14_tokyo.txt', 'txtfiles/jun-05_manila.txt', 'txtfiles/jan-26_shanghai.txt', 'txtfiles/sep-26_karachi.txt', 'txtfiles/sep-07_cairo.txt', 'txtfiles/nov-17_tokyo.txt', 'txtfiles/nov-14_manila.txt', 'txtfiles/dec-10_tokyo.txt', 'txtfiles/nov-03_tokyo.txt', 'txtfiles/sep-13_cairo.txt', 'txtfiles/jan-08_tokyo.txt', 'txtfiles/feb-01_osaka.txt', 'txtfiles/oct-24_jakarta.txt', 'txtfiles/apr-19_dhaka.txt', 'txtfiles/aug-12_manila.txt', 'txtfiles/feb-16_melbourne.txt', 'txtfiles/apr-22_manila.txt', 'txtfiles/feb-09_manila.txt', 'txtfiles/sep-11_osaka.txt', 'txtfiles/sep-23_shanghai.txt', 'txtfiles/aug-25_manila.txt', 'txtfiles/jul-05_tokyo.txt', 'txtfiles/jun-16_singapore.txt', 'txtfiles/sep-21_melbourne.txt', 'txtfiles/may-13_jakarta.txt', 'txtfiles/jul-16_dhaka.txt', 'txtfiles/jun-01_singapore.txt', 'txtfiles/may-14_dhaka.txt', 'txtfiles/jul-03_manila.txt', 'txtfiles/oct-20_manila.txt', 'txtfiles/dec-23_jakarta.txt', 'txtfiles/nov-20_jakarta.txt', 'txtfiles/nov-03_melbourne.txt', 'txtfiles/dec-17_dhaka.txt', 'txtfiles/aug-15_manila.txt', 'txtfiles/apr-25_manila.txt', 'txtfiles/mar-15_tokyo.txt', 'txtfiles/jan-03_jakarta.txt', 'txtfiles/aug-05_jakarta.txt', 'txtfiles/aug-22_manila.txt', 'txtfiles/sep-25_jakarta.txt', 'txtfiles/oct-27_jakarta.txt', 'txtfiles/sep-12_melbourne.txt', 'txtfiles/feb-05_shanghai.txt', 'txtfiles/jun-19_dhaka.txt', 'txtfiles/jul-16_jakarta.txt', 'txtfiles/dec-20_jakarta.txt', 'txtfiles/jun-09_karachi.txt', 'txtfiles/aug-28_melbourne.txt', 'txtfiles/nov-27_melbourne.txt', 'txtfiles/oct-10_manila.txt', 'txtfiles/aug-11_dhaka.txt', 'txtfiles/nov-09_tokyo.txt', 'txtfiles/dec-11_shanghai.txt', 'txtfiles/aug-05_dhaka.txt', 'txtfiles/aug-06_melbourne.txt', 'txtfiles/may-10_karachi.txt', 'txtfiles/jan-16_tokyo.txt', 'txtfiles/oct-09_jakarta.txt', 'txtfiles/apr-03_singapore.txt', 'txtfiles/dec-20_karachi.txt', 'txtfiles/dec-26_osaka.txt', 'txtfiles/jul-16_karachi.txt', 'txtfiles/jul-08_dhaka.txt', 'txtfiles/may-27_cairo.txt', 'txtfiles/sep-25_karachi.txt', 'txtfiles/jul-04_singapore.txt', 'txtfiles/apr-14_singapore.txt', 'txtfiles/oct-24_shanghai.txt', 'txtfiles/jul-27_osaka.txt', 'txtfiles/may-23_singapore.txt', 'txtfiles/dec-09_dhaka.txt', 'txtfiles/aug-11_melbourne.txt', 'txtfiles/jan-03_karachi.txt', 'txtfiles/nov-12_shanghai.txt', 'txtfiles/feb-17_shanghai.txt', 'txtfiles/dec-12_jakarta.txt', 'txtfiles/aug-19_karachi.txt', 'txtfiles/feb-06_jakarta.txt', 'txtfiles/oct-06_melbourne.txt', 'txtfiles/feb-12_manila.txt', 'txtfiles/sep-01_melbourne.txt', 'txtfiles/oct-04_dhaka.txt', 'txtfiles/may-22_jakarta.txt', 'txtfiles/dec-07_osaka.txt', 'txtfiles/oct-17_tokyo.txt', 'txtfiles/jul-04_cairo.txt', 'txtfiles/jun-15_jakarta.txt', 'txtfiles/oct-15_jakarta.txt', 'txtfiles/dec-05_cairo.txt', 'txtfiles/may-09_singapore.txt', 'txtfiles/jan-09_cairo.txt', 'txtfiles/dec-28_dhaka.txt', 'txtfiles/jun-03_osaka.txt', 'txtfiles/jul-06_osaka.txt', 'txtfiles/jul-24_jakarta.txt', 'txtfiles/sep-06_tokyo.txt', 'txtfiles/aug-15_melbourne.txt', 'txtfiles/jul-24_karachi.txt', 'txtfiles/apr-10_singapore.txt', 'txtfiles/may-12_cairo.txt', 'txtfiles/jul-10_cairo.txt', 'txtfiles/feb-16_tokyo.txt', 'txtfiles/apr-21_tokyo.txt', 'txtfiles/aug-18_shanghai.txt', 'txtfiles/apr-12_shanghai.txt', 'txtfiles/mar-08_osaka.txt', 'txtfiles/oct-10_dhaka.txt', 'txtfiles/feb-06_karachi.txt', 'txtfiles/jul-17_singapore.txt', 'txtfiles/apr-07_singapore.txt', 'txtfiles/may-30_singapore.txt', 'txtfiles/nov-28_tokyo.txt', 'txtfiles/aug-30_dhaka.txt', 'txtfiles/oct-19_singapore.txt', 'txtfiles/jul-11_dhaka.txt', 'txtfiles/jul-26_melbourne.txt', 'txtfiles/dec-29_jakarta.txt', 'txtfiles/jan-24_karachi.txt', 'txtfiles/mar-18_tokyo.txt', 'txtfiles/aug-24_singapore.txt', 'txtfiles/nov-04_tokyo.txt', 'txtfiles/may-16_melbourne.txt', 'txtfiles/may-24_manila.txt', 'txtfiles/apr-21_melbourne.txt', 'txtfiles/feb-06_osaka.txt', 'txtfiles/dec-07_karachi.txt', 'txtfiles/jul-02_tokyo.txt', 'txtfiles/jun-07_tokyo.txt', 'txtfiles/sep-16_osaka.txt', 'txtfiles/sep-17_manila.txt', 'txtfiles/feb-10_cairo.txt', 'txtfiles/mar-30_osaka.txt', 'txtfiles/sep-02_osaka.txt', 'txtfiles/oct-20_singapore.txt', 'txtfiles/dec-07_jakarta.txt', 'txtfiles/apr-25_osaka.txt', 'txtfiles/aug-29_shanghai.txt', 'txtfiles/apr-23_shanghai.txt', 'txtfiles/aug-25_cairo.txt', 'txtfiles/aug-08_dhaka.txt', 'txtfiles/jan-24_jakarta.txt', 'txtfiles/apr-28_manila.txt', 'txtfiles/dec-04_dhaka.txt', 'txtfiles/mar-20_manila.txt', 'txtfiles/nov-03_dhaka.txt', 'txtfiles/nov-12_singapore.txt', 'txtfiles/feb-03_manila.txt', 'txtfiles/mar-17_manila.txt', 'txtfiles/oct-07_shanghai.txt', 'txtfiles/dec-29_cairo.txt', 'txtfiles/dec-29_karachi.txt', 'txtfiles/aug-22_jakarta.txt', 'txtfiles/jan-27_osaka.txt', 'txtfiles/apr-15_jakarta.txt', 'txtfiles/jul-05_dhaka.txt', 'txtfiles/jun-08_shanghai.txt', 'txtfiles/sep-23_osaka.txt', 'txtfiles/mar-11_osaka.txt', 'txtfiles/may-05_karachi.txt', 'txtfiles/aug-06_osaka.txt', 'txtfiles/apr-06_cairo.txt', 'txtfiles/oct-09_dhaka.txt', 'txtfiles/jun-13_manila.txt', 'txtfiles/jun-24_manila.txt', 'txtfiles/aug-04_cairo.txt', 'txtfiles/nov-02_manila.txt', 'txtfiles/nov-22_dhaka.txt', 'txtfiles/may-05_melbourne.txt', 'txtfiles/jan-04_cairo.txt', 'txtfiles/jan-01_manila.txt', 'txtfiles/apr-27_karachi.txt', 'txtfiles/jul-19_shanghai.txt', 'txtfiles/jul-22_melbourne.txt', 'txtfiles/may-26_dhaka.txt', 'txtfiles/jun-21_dhaka.txt', 'txtfiles/dec-22_singapore.txt', 'txtfiles/jul-24_dhaka.txt', 'txtfiles/jul-30_dhaka.txt', 'txtfiles/feb-14_singapore.txt', 'txtfiles/jan-16_jakarta.txt', 'txtfiles/jul-15_manila.txt', 'txtfiles/jul-22_manila.txt', 'txtfiles/jan-12_osaka.txt', 'txtfiles/dec-20_shanghai.txt', 'txtfiles/nov-16_singapore.txt', 'txtfiles/nov-25_tokyo.txt', 'txtfiles/feb-27_osaka.txt', 'txtfiles/dec-27_shanghai.txt', 'txtfiles/aug-10_cairo.txt', 'txtfiles/oct-24_singapore.txt', 'txtfiles/feb-08_dhaka.txt', 'txtfiles/sep-23_singapore.txt', 'txtfiles/oct-15_shanghai.txt', 'txtfiles/apr-03_manila.txt', 'txtfiles/feb-21_jakarta.txt', 'txtfiles/feb-03_singapore.txt', 'txtfiles/feb-25_cairo.txt', 'txtfiles/jan-22_melbourne.txt', 'txtfiles/may-05_jakarta.txt', 'txtfiles/apr-12_cairo.txt', 'txtfiles/aug-12_osaka.txt', 'txtfiles/feb-04_tokyo.txt', 'txtfiles/oct-05_jakarta.txt', 'txtfiles/jun-05_osaka.txt', 'txtfiles/nov-29_dhaka.txt', 'txtfiles/mar-26_tokyo.txt', 'txtfiles/feb-11_shanghai.txt', 'txtfiles/sep-14_tokyo.txt', 'txtfiles/may-02_osaka.txt', 'txtfiles/nov-04_cairo.txt', 'txtfiles/nov-28_singapore.txt', 'txtfiles/dec-03_cairo.txt', 'txtfiles/sep-29_karachi.txt', 'txtfiles/may-02_melbourne.txt', 'txtfiles/aug-22_dhaka.txt', 'txtfiles/oct-02_dhaka.txt', 'txtfiles/feb-16_shanghai.txt', 'txtfiles/feb-06_manila.txt', 'txtfiles/jul-25_melbourne.txt', 'txtfiles/mar-12_manila.txt', 'txtfiles/mar-25_manila.txt', 'txtfiles/apr-20_dhaka.txt', 'txtfiles/dec-25_singapore.txt', 'txtfiles/nov-01_karachi.txt', 'txtfiles/feb-13_singapore.txt', 'txtfiles/aug-09_jakarta.txt', 'txtfiles/aug-19_osaka.txt', 'txtfiles/jul-28_tokyo.txt', 'txtfiles/dec-05_shanghai.txt', 'txtfiles/nov-11_singapore.txt', 'txtfiles/sep-29_jakarta.txt', 'txtfiles/dec-17_cairo.txt', 'txtfiles/nov-10_cairo.txt', 'txtfiles/apr-13_shanghai.txt', 'txtfiles/aug-19_shanghai.txt', 'txtfiles/jun-11_osaka.txt', 'txtfiles/jan-18_manila.txt', 'txtfiles/jan-21_karachi.txt', 'txtfiles/mar-06_karachi.txt', 'txtfiles/aug-09_singapore.txt', 'txtfiles/dec-15_osaka.txt', 'txtfiles/oct-05_tokyo.txt', 'txtfiles/sep-24_singapore.txt', 'txtfiles/oct-05_karachi.txt', 'txtfiles/jan-25_melbourne.txt', 'txtfiles/jul-16_cairo.txt', 'txtfiles/feb-04_singapore.txt', 'txtfiles/apr-27_tokyo.txt', 'txtfiles/sep-07_karachi.txt', 'txtfiles/jan-19_osaka.txt', 'txtfiles/oct-19_karachi.txt', 'txtfiles/sep-19_singapore.txt', 'txtfiles/feb-22_dhaka.txt', 'txtfiles/jan-18_melbourne.txt', 'txtfiles/jul-21_melbourne.txt', 'txtfiles/jul-27_manila.txt', 'txtfiles/oct-04_manila.txt', 'txtfiles/dec-30_jakarta.txt', 'txtfiles/may-11_melbourne.txt', 'txtfiles/apr-06_manila.txt', 'txtfiles/nov-01_shanghai.txt', 'txtfiles/sep-21_tokyo.txt', 'txtfiles/jan-13_jakarta.txt', 'txtfiles/oct-24_tokyo.txt', 'txtfiles/jan-21_melbourne.txt', 'txtfiles/apr-12_tokyo.txt', 'txtfiles/sep-20_singapore.txt', 'txtfiles/nov-08_dhaka.txt', 'txtfiles/jun-24_osaka.txt', 'txtfiles/jul-21_osaka.txt', 'txtfiles/dec-17_shanghai.txt', 'txtfiles/nov-02_singapore.txt', 'txtfiles/dec-22_cairo.txt', 'txtfiles/jun-16_manila.txt', 'txtfiles/feb-19_osaka.txt', 'txtfiles/oct-22_shanghai.txt', 'txtfiles/aug-03_dhaka.txt', 'txtfiles/sep-09_osaka.txt', 'txtfiles/jan-04_manila.txt', 'txtfiles/jun-18_tokyo.txt', 'txtfiles/apr-01_shanghai.txt', 'txtfiles/jul-28_jakarta.txt', 'txtfiles/feb-17_singapore.txt', 'txtfiles/nov-24_dhaka.txt', 'txtfiles/sep-19_tokyo.txt', 'txtfiles/jan-15_manila.txt', 'txtfiles/jan-02_cairo.txt', 'txtfiles/jan-06_karachi.txt', 'txtfiles/nov-24_melbourne.txt', 'txtfiles/sep-06_melbourne.txt', 'txtfiles/jun-27_dhaka.txt', 'txtfiles/may-01_shanghai.txt', 'txtfiles/jun-22_karachi.txt', 'txtfiles/sep-20_karachi.txt', 'txtfiles/feb-09_tokyo.txt', 'txtfiles/jul-29_singapore.txt', 'txtfiles/sep-25_osaka.txt', 'txtfiles/sep-11_melbourne.txt', 'txtfiles/may-06_shanghai.txt', 'txtfiles/nov-21_manila.txt', 'txtfiles/feb-21_osaka.txt', 'txtfiles/apr-16_osaka.txt', 'txtfiles/oct-14_shanghai.txt', 'txtfiles/nov-23_tokyo.txt', 'txtfiles/may-15_jakarta.txt', 'txtfiles/apr-14_cairo.txt', 'txtfiles/jul-07_singapore.txt', 'txtfiles/jan-28_karachi.txt', 'txtfiles/apr-17_manila.txt', 'txtfiles/jun-20_tokyo.txt', 'txtfiles/sep-19_shanghai.txt', 'txtfiles/jun-08_singapore.txt', 'txtfiles/jun-22_jakarta.txt', 'txtfiles/sep-20_jakarta.txt', 'txtfiles/jul-01_manila.txt', 'txtfiles/sep-28_melbourne.txt', 'txtfiles/oct-08_tokyo.txt', 'txtfiles/jan-16_cairo.txt', 'txtfiles/jan-06_jakarta.txt', 'txtfiles/jul-19_osaka.txt', 'txtfiles/dec-21_shanghai.txt', 'txtfiles/dec-17_karachi.txt', 'txtfiles/sep-12_cairo.txt', 'txtfiles/nov-14_karachi.txt', 'txtfiles/dec-05_tokyo.txt', 'txtfiles/may-30_manila.txt', 'txtfiles/nov-02_tokyo.txt', 'txtfiles/mar-22_osaka.txt', 'txtfiles/jan-09_manila.txt', 'txtfiles/jul-04_tokyo.txt', 'txtfiles/sep-15_melbourne.txt', 'txtfiles/may-27_karachi.txt', 'txtfiles/may-14_shanghai.txt', 'txtfiles/sep-02_melbourne.txt', 'txtfiles/may-15_dhaka.txt', 'txtfiles/jun-12_dhaka.txt', 'txtfiles/nov-11_dhaka.txt', 'txtfiles/nov-20_melbourne.txt', 'txtfiles/jul-21_karachi.txt', 'txtfiles/dec-16_dhaka.txt', 'txtfiles/apr-05_karachi.txt', 'txtfiles/sep-12_jakarta.txt', 'txtfiles/jun-10_jakarta.txt', 'txtfiles/oct-10_jakarta.txt', 'txtfiles/dec-02_dhaka.txt', 'txtfiles/jan-23_cairo.txt', 'txtfiles/jul-21_jakarta.txt', 'txtfiles/apr-04_singapore.txt', 'txtfiles/jun-29_osaka.txt', 'txtfiles/may-01_dhaka.txt', 'txtfiles/jul-14_singapore.txt', 'txtfiles/aug-28_shanghai.txt', 'txtfiles/apr-21_cairo.txt', 'txtfiles/jul-10_tokyo.txt', 'txtfiles/jul-03_singapore.txt', 'txtfiles/aug-21_osaka.txt', 'txtfiles/apr-13_singapore.txt', 'txtfiles/oct-09_manila.txt', 'txtfiles/feb-14_osaka.txt', 'txtfiles/apr-23_osaka.txt', 'txtfiles/nov-19_melbourne.txt']\n"
     ]
    }
   ],
   "source": [
    "import glob\n",
    "import os\n",
    "import shutil\n",
    "\n",
    "to_convert = {\n",
    "'jan': '01', 'feb': '02', 'mar': '03',\n",
    "'apr': '04', 'may': '05', 'jun': '06',\n",
    "'jul': '07', 'aug': '08', 'sep': '09',\n",
    "'oct': '10', 'nov': '11', 'dec': '12'\n",
    "}\n",
    "\n",
    "txt_files = glob.glob('txtfiles/*')\n",
    "print(txt_files)\n",
    "\n",
    "def rename_my_file():\n",
    "    newpaths = []\n",
    "    for files in txt_files:\n",
    "        for month, number in to_convert.items(): #items() unzips the dictionary\n",
    "            newpathnames = files.replace(month, number)\n",
    "            if newpathnames != files:\n",
    "                newpaths.append(newpathnames)\n",
    "    return newpaths #this is impt otherwise the output will be stuck in the list\n",
    "\n",
    "newfilenames = rename_my_file() #defines newfilenames as the output of rename my file \n",
    "\n",
    "#for i in range(len(txt_files)): #takes by the index\n",
    "    #os.rename(txt_files[i],newfilenames[i]) #from oldfilenames to newfilenames inputs are strings \n",
    "\n",
    "#uh i misread the exercise 1 instructions apologies"
   ]
  },
  {
   "cell_type": "code",
   "execution_count": 5,
   "id": "7a28829e",
   "metadata": {},
   "outputs": [
    {
     "name": "stdout",
     "output_type": "stream",
     "text": [
      "Help on built-in function remove in module posix:\n",
      "\n",
      "remove(path, *, dir_fd=None)\n",
      "    Remove a file (same as unlink()).\n",
      "    \n",
      "    If dir_fd is not None, it should be a file descriptor open to a directory,\n",
      "      and path should be relative; path will then be relative to that directory.\n",
      "    dir_fd may not be implemented on your platform.\n",
      "      If it is unavailable, using it will raise a NotImplementedError.\n",
      "\n"
     ]
    }
   ],
   "source": [
    "help(os.remove)"
   ]
  },
  {
   "cell_type": "code",
   "execution_count": 4,
   "id": "a0ada1b3",
   "metadata": {},
   "outputs": [
    {
     "name": "stdout",
     "output_type": "stream",
     "text": [
      "Help on function rmtree in module shutil:\n",
      "\n",
      "rmtree(path, ignore_errors=False, onerror=None, *, dir_fd=None)\n",
      "    Recursively delete a directory tree.\n",
      "    \n",
      "    If dir_fd is not None, it should be a file descriptor open to a directory;\n",
      "    path will then be relative to that directory.\n",
      "    dir_fd may not be implemented on your platform.\n",
      "    If it is unavailable, using it will raise a NotImplementedError.\n",
      "    \n",
      "    If ignore_errors is set, errors are ignored; otherwise, if onerror\n",
      "    is set, it is called to handle the error with arguments (func,\n",
      "    path, exc_info) where func is platform and implementation dependent;\n",
      "    path is the argument to that function that caused it to fail; and\n",
      "    exc_info is a tuple returned by sys.exc_info().  If ignore_errors\n",
      "    is false and onerror is None, an exception is raised.\n",
      "\n"
     ]
    }
   ],
   "source": [
    "help(shutil.rmtree)"
   ]
  },
  {
   "cell_type": "code",
   "execution_count": 8,
   "id": "e8908503",
   "metadata": {},
   "outputs": [
    {
     "name": "stdout",
     "output_type": "stream",
     "text": [
      "Help on built-in function mkdir in module posix:\n",
      "\n",
      "mkdir(path, mode=511, *, dir_fd=None)\n",
      "    Create a directory.\n",
      "    \n",
      "    If dir_fd is not None, it should be a file descriptor open to a directory,\n",
      "      and path should be relative; path will then be relative to that directory.\n",
      "    dir_fd may not be implemented on your platform.\n",
      "      If it is unavailable, using it will raise a NotImplementedError.\n",
      "    \n",
      "    The mode argument is ignored on Windows. Where it is used, the current umask\n",
      "    value is first masked out.\n",
      "\n"
     ]
    }
   ],
   "source": [
    "help(os.mkdir)"
   ]
  },
  {
   "cell_type": "code",
   "execution_count": 2,
   "id": "a25b7bb2",
   "metadata": {},
   "outputs": [
    {
     "data": {
      "text/plain": [
       "False"
      ]
     },
     "execution_count": 2,
     "metadata": {},
     "output_type": "execute_result"
    }
   ],
   "source": [
    "import os\n",
    "dir_to_access = 'os-collaboration-exercise-data'\n",
    "file_to_access = 'apr-02_cairo.txt'\n",
    "\n",
    "test_path = os.path.join(dir_to_access, file_to_access)\n",
    "os.path.exists(test_path)\n",
    "\n",
    "whattofind = os.path.join(dir_to_access, '*.txt')\n",
    "os.path.exists(whattofind)\n",
    "#glob.glob('os-collaboration-exercise-data/*')"
   ]
  },
  {
   "cell_type": "code",
   "execution_count": null,
   "id": "87db7a64",
   "metadata": {},
   "outputs": [
    {
     "name": "stdout",
     "output_type": "stream",
     "text": [
      "o\n",
      "s\n",
      "-\n",
      "c\n",
      "o\n",
      "l\n",
      "l\n",
      "a\n",
      "b\n",
      "o\n",
      "r\n",
      "a\n",
      "t\n",
      "i\n",
      "o\n",
      "n\n",
      "-\n",
      "e\n",
      "x\n",
      "e\n",
      "r\n",
      "c\n",
      "i\n",
      "s\n",
      "e\n",
      "-\n",
      "d\n",
      "a\n",
      "t\n",
      "a\n"
     ]
    }
   ],
   "source": [
    "for files in 'os-collaboration-exercise-data':\n",
    "    print(files)\n",
    "\n",
    "    /Users/Zara/Downloads/SP2273"
   ]
  }
 ],
 "metadata": {
  "kernelspec": {
   "display_name": "Python 3",
   "language": "python",
   "name": "python3"
  },
  "language_info": {
   "codemirror_mode": {
    "name": "ipython",
    "version": 3
   },
   "file_extension": ".py",
   "mimetype": "text/x-python",
   "name": "python",
   "nbconvert_exporter": "python",
   "pygments_lexer": "ipython3",
   "version": "3.11.13"
  },
  "toc": {
   "base_numbering": 1,
   "nav_menu": {},
   "number_sections": true,
   "sideBar": true,
   "skip_h1_title": false,
   "title_cell": "Table of Contents",
   "title_sidebar": "Contents",
   "toc_cell": false,
   "toc_position": {},
   "toc_section_display": true,
   "toc_window_display": false
  },
  "vscode": {
   "interpreter": {
    "hash": "31f2aee4e71d21fbe5cf8b01ff0e069b9275f58929596ceb00d14d90e3e16cd6"
   }
  }
 },
 "nbformat": 4,
 "nbformat_minor": 5
}
