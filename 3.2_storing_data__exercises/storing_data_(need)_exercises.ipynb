{
 "cells": [
  {
   "attachments": {},
   "cell_type": "markdown",
   "id": "123456",
   "metadata": {},
   "source": [
    "<div style=\"text-align:left;font-size:2em\"><span style=\"font-weight:bolder;font-size:1.25em\">SP2273 | Learning Portfolio</span><br><br><span style=\"font-weight:bold;color:darkred\">Storing Data (Need) Exercises</span></div>"
   ]
  },
  {
   "cell_type": "markdown",
   "id": "9cfe0db7",
   "metadata": {},
   "source": [
    "|Question|Answer|\n",
    "|:--|--:|\n",
    "|Two similarities between lists and arrays.|*both are used to store multiple elements, and both can be iterated through(corrected)*|\n",
    "|Two differences between lists and arrays.|*lists are [], arrays are lists within () so you can have multiple sets of data, data types are impt in arrays but not so much in lists*|\n",
    "|What is a dictionary?|*defines multiple items in a singular line of code. Can be modified*|\n"
   ]
  },
  {
   "cell_type": "code",
   "execution_count": null,
   "id": "25c98cbc",
   "metadata": {},
   "outputs": [
    {
     "name": "stdout",
     "output_type": "stream",
     "text": [
      "2.0\n"
     ]
    }
   ],
   "source": [
    "import numpy as np\n",
    "\n",
    "ans = np.sqrt(4)\n",
    "print(int(ans))\n"
   ]
  },
  {
   "cell_type": "code",
   "execution_count": null,
   "id": "4d6e2317",
   "metadata": {},
   "outputs": [
    {
     "name": "stdout",
     "output_type": "stream",
     "text": [
      "0.29999999999999999\n"
     ]
    }
   ],
   "source": [
    "function = f'{0.3:.17f}' #the f means decimal places, the colon is a format separator\n",
    "print(function)"
   ]
  },
  {
   "cell_type": "code",
   "execution_count": 3,
   "id": "e1ab9c33",
   "metadata": {},
   "outputs": [
    {
     "name": "stdout",
     "output_type": "stream",
     "text": [
      "a1\n",
      "c3\n",
      "e5\n",
      "g7\n",
      "i9\n"
     ]
    }
   ],
   "source": [
    "py_list = [\"a1\", \"b2\", \"c3\", \"d4\", \"e5\", \"f6\", \"g7\", \"h8\", \"i9\", \"j10\"]\n",
    "print(py_list[0])    # Prints 'a1'\n",
    "print(py_list[2])    # Prints 'c3'\n",
    "print(py_list[4])    # Prints 'e5'\n",
    "print(py_list[-4])   # Prints 'g7'\n",
    "print(py_list[-2])   # Prints 'i9'"
   ]
  },
  {
   "cell_type": "code",
   "execution_count": 5,
   "id": "181fdb1b",
   "metadata": {},
   "outputs": [
    {
     "name": "stdout",
     "output_type": "stream",
     "text": [
      "Boron\n",
      "Boron\n"
     ]
    }
   ],
   "source": [
    "elements = ['Hydrogen',\n",
    "            'Helium', 'Lithium',\n",
    "            'Beryllium', 'Boron', 'Carbon',\n",
    "            'Nitrogen', 'Oxygen',\n",
    "            'Fluorine',\n",
    "            'Neon']\n",
    "print(elements[4])\n",
    "print(elements[-6])"
   ]
  },
  {
   "cell_type": "code",
   "execution_count": null,
   "id": "b69c7910",
   "metadata": {},
   "outputs": [
    {
     "name": "stdout",
     "output_type": "stream",
     "text": [
      "9\n",
      "9\n"
     ]
    }
   ],
   "source": [
    "import numpy as np\n",
    "numbers=[45, 60, 1, 30, 96, 1, 96, 57, 16, 1,\n",
    "        99, 62, 86, 43, 42, 60, 59, 1, 1, 35,\n",
    "        83, 47, 34, 28, 68, 23, 22, 92, 1, 79,\n",
    "        1, 29, 94, 72, 46, 47, 1, 74, 32, 20,\n",
    "        8, 37, 35, 1, 89, 29, 86, 19, 43, 61]\n",
    "np_array = np.array(numbers)\n",
    "\n",
    "no_of_one = numbers.count(1)\n",
    "print(no_of_one)\n",
    "\n",
    "ones = np.sum(np_array == 1)\n",
    "print(ones)\n",
    "\n"
   ]
  },
  {
   "cell_type": "code",
   "execution_count": 26,
   "id": "116683c0",
   "metadata": {},
   "outputs": [
    {
     "name": "stdout",
     "output_type": "stream",
     "text": [
      "the mean of x_1 is 38.5\n",
      "the mean of x_2 is 302.5\n",
      "32 (nearest whole)\n",
      "326 (nearest whole)\n",
      "[[  1167.83333333  11595.83333333]\n",
      " [ 11595.83333333 118149.16666667]]\n",
      "[[1.         0.98717966]\n",
      " [0.98717966 1.        ]]\n",
      "[[ 0.11046701  1.09686629]\n",
      " [ 1.09686629 11.17589694]]\n",
      "0.9871796626270701\n"
     ]
    }
   ],
   "source": [
    "import numpy as np\n",
    "\n",
    "x_1 = [1, 4, 9, 16, 25, 36, 49, 64, 81, 100]\n",
    "x_2 = [1, 8, 27, 64, 125, 216, 343, 512, 729, 1000]\n",
    "\n",
    "x1array = np.array(x_1) #converts list to array\n",
    "x2array = np.array(x_2) #converts list to array \n",
    "\n",
    "mean1 = np.mean(x1array) #mean \n",
    "mean2 = np.mean(x2array) #mean\n",
    "print(f\"the mean of x_1 is {mean1}\")\n",
    "print(\"the mean of x_2 is\", mean2)\n",
    "\n",
    "stdv1 = np.std(x1array)\n",
    "stdv2 = np.std(x2array)\n",
    "print(int(stdv1),\"(nearest whole)\") #standard deviation to the nearest whole\n",
    "print(int(stdv2),\"(nearest whole)\") #standard deviation to the nearest whole\n",
    "\n",
    "cov1 = np.cov(x1array, x2array)\n",
    "print (cov1)\n",
    "\n",
    "check1 = np.corrcoef(x_1, x_2)\n",
    "print(check1)\n",
    "\n",
    "r_value_try1 = cov1 / (stdv1*stdv2)\n",
    "print(r_value_try1)\n",
    "\n",
    "r_value_try2 = (sum((x1array - np.mean(x1array)) * (x2array - np.mean(x2array)))) / (np.sqrt((sum((x1array - np.mean(x1array))**2)) * (sum((x2array - np.mean(x2array))**2)))) #counting brackets properly is very impt\n",
    "print (r_value_try2)\n",
    "\n"
   ]
  },
  {
   "cell_type": "code",
   "execution_count": null,
   "id": "58c25c88",
   "metadata": {},
   "outputs": [
    {
     "name": "stdout",
     "output_type": "stream",
     "text": [
      "9\n"
     ]
    }
   ],
   "source": [
    "#corrections oops this was not masking \n",
    "\n",
    "import numpy as np\n",
    "numbers=[45, 60, 1, 30, 96, 1, 96, 57, 16, 1,\n",
    "        99, 62, 86, 43, 42, 60, 59, 1, 1, 35,\n",
    "        83, 47, 34, 28, 68, 23, 22, 92, 1, 79,\n",
    "        1, 29, 94, 72, 46, 47, 1, 74, 32, 20,\n",
    "        8, 37, 35, 1, 89, 29, 86, 19, 43, 61]\n",
    "np_array = np.array(numbers)\n",
    "\n",
    "ones = 0\n",
    "for i in np_array:\n",
    "    if i == 1:\n",
    "        ones += 1 #else do nothing haha i dont need it so just skip\n",
    "print(ones)"
   ]
  },
  {
   "cell_type": "code",
   "execution_count": null,
   "id": "35d54739",
   "metadata": {},
   "outputs": [
    {
     "name": "stdout",
     "output_type": "stream",
     "text": [
      "[False False  True False False  True False False False  True False False\n",
      " False False False False False  True  True False False False False False\n",
      " False False False False  True False  True False False False False False\n",
      "  True False False False False False False  True False False False False\n",
      " False False]\n"
     ]
    },
    {
     "data": {
      "text/plain": [
       "9"
      ]
     },
     "execution_count": 9,
     "metadata": {},
     "output_type": "execute_result"
    }
   ],
   "source": [
    "#horribly done masking for learning please ignore  \n",
    "import numpy as np \n",
    "numbers=[45, 60, 1, 30, 96, 1, 96, 57, 16, 1,\n",
    "        99, 62, 86, 43, 42, 60, 59, 1, 1, 35,\n",
    "        83, 47, 34, 28, 68, 23, 22, 92, 1, 79,\n",
    "        1, 29, 94, 72, 46, 47, 1, 74, 32, 20,\n",
    "        8, 37, 35, 1, 89, 29, 86, 19, 43, 61]\n",
    "numbers_array = np.array(numbers)\n",
    "\n",
    "listofones = numbers_array == 1\n",
    "print(listofones)\n",
    "countones = numbers_array[listofones] #selects for the true\n",
    "len(countones)\n"
   ]
  },
  {
   "cell_type": "code",
   "execution_count": null,
   "id": "3c5c7b83",
   "metadata": {},
   "outputs": [
    {
     "name": "stdout",
     "output_type": "stream",
     "text": [
      "[1 1 1 1 1 1 1 1 1]\n"
     ]
    },
    {
     "data": {
      "text/plain": [
       "9"
      ]
     },
     "execution_count": 11,
     "metadata": {},
     "output_type": "execute_result"
    }
   ],
   "source": [
    "#corrections (better done masking) pls look at this one instead\n",
    "import numpy as np \n",
    "numbers=[45, 60, 1, 30, 96, 1, 96, 57, 16, 1,\n",
    "        99, 62, 86, 43, 42, 60, 59, 1, 1, 35,\n",
    "        83, 47, 34, 28, 68, 23, 22, 92, 1, 79,\n",
    "        1, 29, 94, 72, 46, 47, 1, 74, 32, 20,\n",
    "        8, 37, 35, 1, 89, 29, 86, 19, 43, 61]\n",
    "numbers_array = np.array(numbers)\n",
    "\n",
    "countingarray = numbers_array[numbers_array == 1] #selects for indexes where the numbers are 1 basically shortens the previous code \n",
    "print(countingarray)\n",
    "len(countingarray)\n"
   ]
  },
  {
   "cell_type": "code",
   "execution_count": null,
   "id": "e1965981",
   "metadata": {},
   "outputs": [],
   "source": [
    "#corrections for exercise 2 (using slicing)\n",
    "np_array_2d = np.array([[1, \"A\"], [3, \"C\"], [2, \"B\"], [4, \"D\"],\n",
    "                        [5, \"E\"], [7, \"G\"], [6, \"F\"], [8, \"H\"],\n",
    "                        [10, \"J\"], [9, \"I\"]])\n",
    "\n"
   ]
  }
 ],
 "metadata": {
  "kernelspec": {
   "display_name": "Python 3",
   "language": "python",
   "name": "python3"
  },
  "language_info": {
   "codemirror_mode": {
    "name": "ipython",
    "version": 3
   },
   "file_extension": ".py",
   "mimetype": "text/x-python",
   "name": "python",
   "nbconvert_exporter": "python",
   "pygments_lexer": "ipython3",
   "version": "3.11.13"
  },
  "toc": {
   "base_numbering": 1,
   "nav_menu": {},
   "number_sections": true,
   "sideBar": true,
   "skip_h1_title": false,
   "title_cell": "Table of Contents",
   "title_sidebar": "Contents",
   "toc_cell": false,
   "toc_position": {},
   "toc_section_display": true,
   "toc_window_display": false
  },
  "vscode": {
   "interpreter": {
    "hash": "31f2aee4e71d21fbe5cf8b01ff0e069b9275f58929596ceb00d14d90e3e16cd6"
   }
  }
 },
 "nbformat": 4,
 "nbformat_minor": 5
}
