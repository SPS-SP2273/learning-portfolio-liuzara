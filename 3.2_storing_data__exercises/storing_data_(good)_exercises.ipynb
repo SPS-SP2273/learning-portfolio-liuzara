{
 "cells": [
  {
   "attachments": {},
   "cell_type": "markdown",
   "id": "123456",
   "metadata": {},
   "source": [
    "<div style=\"text-align:left;font-size:2em\"><span style=\"font-weight:bolder;font-size:1.25em\">SP2273 | Learning Portfolio</span><br><br><span style=\"font-weight:bold;color:darkred\">Storing Data (Good) Exercises</span></div>"
   ]
  },
  {
   "cell_type": "markdown",
   "id": "edb6129f",
   "metadata": {},
   "source": [
    "|Term|Breif description|\n",
    "|:--|--:|\n",
    "|Subsetting|is the goal that is obtaining a specific portion of data from the dataset|\n",
    "|Indexing|retrieving an element through its index, this coould be from lists arrays or dictionaries|\n",
    "|Slicing|getting a chunk of the data which is many indexes by using the index|\n",
    "|Masking|retrieving the data that fulfils certian conditions by constructing a new variable to contain all the boolean values generated from the sorting of the data. Is used in subsetting by putting the variable in [] as python understands to extract only the true|\n"
   ]
  },
  {
   "cell_type": "code",
   "execution_count": 2,
   "id": "52df53ba",
   "metadata": {},
   "outputs": [
    {
     "name": "stdout",
     "output_type": "stream",
     "text": [
      "['1' '3' '2' '4' '5' '7' '6' '8' '10' '9']\n",
      "[ 1  3  2  4  5  7  6  8 10  9]\n",
      "[1 1 0 0 1 1 0 0 0 1]\n",
      "['A' 'C' 'E' 'G' 'I']\n"
     ]
    }
   ],
   "source": [
    "#This could probably have been done better\n",
    "\n",
    "import numpy as np\n",
    "np_array_2d = np.array([[1, \"A\"], [3, \"C\"], [2, \"B\"], [4, \"D\"],\n",
    "                        [5, \"E\"], [7, \"G\"], [6, \"F\"], [8, \"H\"],\n",
    "                        [10, \"J\"], [9, \"I\"]])\n",
    "\n",
    "first_elements_array = np_array_2d[:,0] #choses the element in position 0 for each set of data from 0 to 10\n",
    "print(first_elements_array)\n",
    "\n",
    "masked_array = first_elements_array.astype(int) #changes the datatype of the array of numbers to integer\n",
    "print(masked_array)\n",
    "\n",
    "intermediate_array = masked_array % 2 #gets the ones that are not odd\n",
    "\n",
    "if intermediate_array.any != 0:\n",
    "    print(intermediate_array) #check for correctness\n",
    "    indexes = np.where(intermediate_array)[0] #finds the index where the \"True\"s are \n",
    "    second_element_array = np_array_2d[indexes,1] #uses the indexes found to isolate the sets we want, and takes out the position 1 of each of these sets\n",
    "    print(second_element_array)\n",
    "else:\n",
    "    print(\"IT RUNS\") #because my code didnt even run before this T-T\n"
   ]
  },
  {
   "cell_type": "code",
   "execution_count": 1,
   "id": "f4925fa6",
   "metadata": {},
   "outputs": [
    {
     "name": "stdout",
     "output_type": "stream",
     "text": [
      "[[66 50 57 -1 -1]\n",
      " [92 -1 88 -1 -1]\n",
      " [75 -1 -1 76 -1]\n",
      " [-1 51 87 -1 -1]\n",
      " [71 -1 67 -1 69]]\n",
      "[[ 1 50  1 -1 -1]\n",
      " [ 1 -1  1 -1 -1]\n",
      " [ 1 -1 -1  1 -1]\n",
      " [-1  1  1 -1 -1]\n",
      " [ 1 -1  1 -1  1]]\n",
      "[[ 1  0  1 -1 -1]\n",
      " [ 1 -1  1 -1 -1]\n",
      " [ 1 -1 -1  1 -1]\n",
      " [-1  1  1 -1 -1]\n",
      " [ 1 -1  1 -1  1]]\n"
     ]
    }
   ],
   "source": [
    "import numpy as np\n",
    "givenlist = [[66, 50, 57, -1, -1],\n",
    " [92, -1, 88, -1, -1],\n",
    " [75, -1, -1, 76, -1],\n",
    " [-1, 51, 87, -1, -1],\n",
    " [71, -1, 67, -1, 69]]\n",
    "\n",
    "givenarray = np.array(givenlist)\n",
    "givenarray.astype(int)\n",
    "\n",
    "givenarray[givenarray < 50] = -1\n",
    "print(givenarray) #we run this first because we dont want the later 1 to be affected since its smaller than 50\n",
    "\n",
    "givenarray[givenarray > 50] = 1\n",
    "print(givenarray)\n",
    "\n",
    "givenarray[givenarray == 50] = 0\n",
    "print(givenarray)"
   ]
  },
  {
   "cell_type": "code",
   "execution_count": null,
   "id": "11b7ae07",
   "metadata": {},
   "outputs": [
    {
     "name": "stdout",
     "output_type": "stream",
     "text": [
      "['s', 'u', 'n']\n",
      "['h', 'a', 'n', 'n', 'a', 'h']\n",
      "['h', 'a', 'n', 'n', 'a', 'h']\n"
     ]
    }
   ],
   "source": [
    "#good to know optional \n",
    "hannah = ['h','a','n','n','a','h']\n",
    "nus = ['n', 'u', 's']\n",
    "print(nus[::-1])\n",
    "print(hannah[::-1])\n",
    "print(hannah[5::-1]) #the issue is the 0 because this syntax is not inclusive of the 0\n"
   ]
  },
  {
   "cell_type": "code",
   "execution_count": null,
   "id": "adf3e37a",
   "metadata": {},
   "outputs": [],
   "source": []
  }
 ],
 "metadata": {
  "kernelspec": {
   "display_name": "Python 3",
   "language": "python",
   "name": "python3"
  },
  "language_info": {
   "codemirror_mode": {
    "name": "ipython",
    "version": 3
   },
   "file_extension": ".py",
   "mimetype": "text/x-python",
   "name": "python",
   "nbconvert_exporter": "python",
   "pygments_lexer": "ipython3",
   "version": "3.11.13"
  },
  "toc": {
   "base_numbering": 1,
   "nav_menu": {},
   "number_sections": true,
   "sideBar": true,
   "skip_h1_title": false,
   "title_cell": "Table of Contents",
   "title_sidebar": "Contents",
   "toc_cell": false,
   "toc_position": {},
   "toc_section_display": true,
   "toc_window_display": false
  },
  "vscode": {
   "interpreter": {
    "hash": "31f2aee4e71d21fbe5cf8b01ff0e069b9275f58929596ceb00d14d90e3e16cd6"
   }
  }
 },
 "nbformat": 4,
 "nbformat_minor": 5
}
