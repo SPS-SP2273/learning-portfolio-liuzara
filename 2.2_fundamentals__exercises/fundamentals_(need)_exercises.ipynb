{
 "cells": [
  {
   "attachments": {},
   "cell_type": "markdown",
   "id": "123456",
   "metadata": {},
   "source": [
    "<div style=\"text-align:left;font-size:2em\"><span style=\"font-weight:bolder;font-size:1.25em\">SP2273 | Learning Portfolio</span><br><br><span style=\"font-weight:bold;color:darkred\">Fundamentals (Need) Exercises</span></div>"
   ]
  },
  {
   "cell_type": "markdown",
   "id": "53382a46",
   "metadata": {},
   "source": [
    "tables footnotes arrays fonts subscripts and superscripts (from first attempt)\n",
    "functions, tab spacing, brackets, open inverted commas, = for definition vs == for asking a qn, %%timeit for cell %timeit for one line, % for remainder, / for divide, //for divide and round down to nearest whole no., interrupts and restart kernals, # means ignore, * is multiply(from second attempt)"
   ]
  },
  {
   "cell_type": "code",
   "execution_count": null,
   "id": "fd014d7d",
   "metadata": {},
   "outputs": [
    {
     "name": "stdout",
     "output_type": "stream",
     "text": [
      "3 4 5.0\n"
     ]
    }
   ],
   "source": [
    "x, y = 3, 4\n",
    "import math #math allows the sqrt to work\n",
    "z = math.sqrt(x**2 + y**2) #** means to power of\n",
    "print(x, y, z)"
   ]
  },
  {
   "cell_type": "markdown",
   "id": "d7951261",
   "metadata": {},
   "source": [
    "|#|Term|Desciption|\n",
    "|:--|---|--:|\n",
    "|1|Function|To execute commands|\n",
    "|2|Arguments|idk|\n",
    "|3|Comments|# where everything written after will be ignored by the code|\n",
    "|4|Indentations|tab key|\n",
    "|5|Packages|things like numpy, math and stuff that has to be imported maybe?|\n",
    "|6|.|***smth that belongs to smth else come back to this***|\n",
    "|7|:|something through something, used for indexes and also used for 'while' and 'if' statements|\n",
    "|8|[]|inclusive of what is within the brackets its used for **lists only**, what is inside is the index of the code|\n",
    "|9|[ [],[] ] |not sure|\n",
    "|10|{}|for mathematical functions in markdown, and for storing data in dictionaries|\n"
   ]
  },
  {
   "cell_type": "code",
   "execution_count": null,
   "id": "296a3e66",
   "metadata": {},
   "outputs": [
    {
     "data": {
      "text/plain": [
       "2.5"
      ]
     },
     "execution_count": 2,
     "metadata": {},
     "output_type": "execute_result"
    }
   ],
   "source": [
    "5/2           # Division"
   ]
  },
  {
   "cell_type": "code",
   "execution_count": null,
   "id": "599d255e",
   "metadata": {},
   "outputs": [
    {
     "data": {
      "text/plain": [
       "2"
      ]
     },
     "execution_count": 3,
     "metadata": {},
     "output_type": "execute_result"
    }
   ],
   "source": [
    "5//2          # rounds down to nearest whole after division"
   ]
  },
  {
   "cell_type": "code",
   "execution_count": null,
   "id": "fdb6bedd",
   "metadata": {},
   "outputs": [
    {
     "data": {
      "text/plain": [
       "1"
      ]
     },
     "execution_count": 2,
     "metadata": {},
     "output_type": "execute_result"
    }
   ],
   "source": [
    "5%2 #remainder"
   ]
  }
 ],
 "metadata": {
  "kernelspec": {
   "display_name": "Python 3",
   "language": "python",
   "name": "python3"
  },
  "language_info": {
   "codemirror_mode": {
    "name": "ipython",
    "version": 3
   },
   "file_extension": ".py",
   "mimetype": "text/x-python",
   "name": "python",
   "nbconvert_exporter": "python",
   "pygments_lexer": "ipython3",
   "version": "3.11.13"
  },
  "toc": {
   "base_numbering": 1,
   "nav_menu": {},
   "number_sections": true,
   "sideBar": true,
   "skip_h1_title": false,
   "title_cell": "Table of Contents",
   "title_sidebar": "Contents",
   "toc_cell": false,
   "toc_position": {},
   "toc_section_display": true,
   "toc_window_display": false
  },
  "vscode": {
   "interpreter": {
    "hash": "31f2aee4e71d21fbe5cf8b01ff0e069b9275f58929596ceb00d14d90e3e16cd6"
   }
  }
 },
 "nbformat": 4,
 "nbformat_minor": 5
}
