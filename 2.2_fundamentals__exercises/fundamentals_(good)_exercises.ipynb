{
 "cells": [
  {
   "attachments": {},
   "cell_type": "markdown",
   "id": "123456",
   "metadata": {},
   "source": [
    "<div style=\"text-align:left;font-size:2em\"><span style=\"font-weight:bolder;font-size:1.25em\">SP2273 | Learning Portfolio</span><br><br><span style=\"font-weight:bold;color:darkred\">Fundamentals (Good) Exercises</span></div>"
   ]
  },
  {
   "cell_type": "code",
   "execution_count": null,
   "id": "8f180b88",
   "metadata": {},
   "outputs": [
    {
     "name": "stdout",
     "output_type": "stream",
     "text": [
      "YOU ENTERED 50\n"
     ]
    }
   ],
   "source": [
    "user_input = input('Please provide me with a number?')\n",
    "print('You entered'.upper(), user_input) #.upper means upper case, .lower will be lower case, .capitalise will capitalise only the first letter, .title will capitalise the first letter of each word"
   ]
  },
  {
   "cell_type": "code",
   "execution_count": 1,
   "id": "0dae27a2",
   "metadata": {},
   "outputs": [
    {
     "name": "stdout",
     "output_type": "stream",
     "text": [
      "How you doin name !\n"
     ]
    }
   ],
   "source": [
    "user_input = input('what is your name?')\n",
    "print(\"How you doin\", user_input, \"!\")"
   ]
  },
  {
   "cell_type": "code",
   "execution_count": null,
   "id": "296a8f88",
   "metadata": {},
   "outputs": [
    {
     "name": "stdout",
     "output_type": "stream",
     "text": [
      "My name is hihi and I am 90 years old.\n"
     ]
    },
    {
     "data": {
      "text/plain": [
       "True"
      ]
     },
     "execution_count": 7,
     "metadata": {},
     "output_type": "execute_result"
    }
   ],
   "source": [
    "name = input('whats your name?') #can name the input anything, but the format will always be a string \n",
    "age = input('what is your age?')\n",
    "print(\"My name is\", name, \"and I am\", age, \"years old.\")\n",
    "\n",
    "age.isnumeric() #checks if the things in the string are numeric "
   ]
  },
  {
   "cell_type": "code",
   "execution_count": null,
   "id": "f70540ce",
   "metadata": {},
   "outputs": [
    {
     "name": "stdout",
     "output_type": "stream",
     "text": [
      "the value of pi 2 decimal places is: 3.14\n",
      "the value of pi to 3 decimal places is: 3.142\n",
      "the value of pi at 4 decimal places is 3.1416\n"
     ]
    }
   ],
   "source": [
    "import math \n",
    "\n",
    "pi = math.pi # this is how you get the exact sequence of pi \n",
    "print('the value of pi 2 decimal places is:',round(pi,2)) #this rounds the value pi to 2dp\n",
    "print('the value of pi to 3 decimal places is:',round(pi,3)) #this rounds the value of pi to 3dp\n",
    "print(\"the value of pi at 4 decimal places is\",round(pi,4)) #this rounds the value of pi to 4dp "
   ]
  },
  {
   "cell_type": "code",
   "execution_count": null,
   "id": "bfb2dad2",
   "metadata": {},
   "outputs": [
    {
     "name": "stdout",
     "output_type": "stream",
     "text": [
      "[70, 71, 72, 73, 74, 75, 76, 77, 78, 79, 80, 81, 82, 83, 84, 85, 86, 87, 88, 89, 90, 91, 92, 93, 94, 95, 96, 97, 98, 99, 100]\n",
      "[50, 51, 52, 53, 54, 55, 56, 57, 58, 59, 60, 61, 62, 63, 64, 65, 66, 67, 68, 69]\n",
      "[35, 36, 37, 38, 39, 40, 41, 42, 43, 44, 45, 46, 47, 48, 49]\n",
      "[0, 1, 2, 3, 4, 5, 6, 7, 8, 9, 10, 11, 12, 13, 14, 15, 16, 17, 18, 19, 20, 21, 22, 23, 24, 25, 26, 27, 28, 29, 30, 31, 32, 33, 34]\n",
      "The student's letter grade is: A\n"
     ]
    }
   ],
   "source": [
    "grade_a = list(range(70,101)) #the list() is very important as it is the thing that \n",
    "                                #allows all of the things in the range to be counted \n",
    "                                #if it were a range you cant use one element in it\n",
    "print(grade_a)\n",
    "grade_b = list(range(50,70))\n",
    "print(grade_b)\n",
    "grade_c = list(range(35,50))\n",
    "print(grade_c)\n",
    "failed = list(range(35))\n",
    "print(failed)\n",
    "\n",
    "students_score = int(input('what is the students score in integer form?')) #makes the input an integer \n",
    "response = \"The student's letter grade is:\"\n",
    "\n",
    "if grade_a[0] < students_score < grade_a[-1]: #the use of the [] makes the code pick up the number the index says so its a int \n",
    "    print(response,\"A\")\n",
    "elif grade_b[0] < students_score < grade_b[-1]:\n",
    "    print(response,\"B\")\n",
    "elif grade_c[0] < students_score < grade_c[-1]:\n",
    "    print(response,\"C\")\n",
    "elif failed[0] < students_score < failed[-1]:\n",
    "    print(response, \"Fail\")\n",
    "else:\n",
    "    print(\"You have not entered a valid score\")\n"
   ]
  },
  {
   "cell_type": "code",
   "execution_count": 11,
   "id": "68e29f12",
   "metadata": {},
   "outputs": [
    {
     "name": "stdout",
     "output_type": "stream",
     "text": [
      "120\n",
      "Invalid input\n"
     ]
    }
   ],
   "source": [
    "def factorial(n):\n",
    "    if n < 0:\n",
    "        return \"Invalid input\"\n",
    "    elif n == 0:\n",
    "        return 1\n",
    "    else:\n",
    "        result = 1\n",
    "        for number in range(1, n+1): #107µs with list, 106µs without list. \n",
    "                                    #The for loop allows us to not put a list\n",
    "            result *= number\n",
    "        return result\n",
    "\n",
    "\n",
    "print(factorial(5))   # Testing, expected output: 120\n",
    "print(factorial(-1))  # Testing, expected output: Invalid input"
   ]
  },
  {
   "cell_type": "code",
   "execution_count": null,
   "id": "0ba33d9c",
   "metadata": {},
   "outputs": [],
   "source": [
    "#corrections version 2 (this one is refusing to work)\n",
    "#Qns: why is the thing not printing? it sometimes prints and sometimes doenst\n",
    "#Qns: where should i put the int(input('enter bla bla'))? because i want to separate this into 2 functions so i can get the code to run through if it doesnt work? i think making it a global variable wouldnt work, but idk where to put it in the local variable? should it be inside the parentheses of the defined function or within the function itself?\n",
    "\n",
    "def incomplete_grade_calculator(): #this input has to be here so that the score can be accessed by the code in the def \n",
    "    score = int(input('enter the student\\'s score:')) #backslash allows the apostrophe not to be seen as code\n",
    "    if 70 <= score <= 100:\n",
    "        return 'letter_grade = A' \n",
    "    elif 50 <= score <= 69:\n",
    "        return 'letter_grade = B'\n",
    "    elif 35 <= score <= 49:\n",
    "        return 'letter_grade = C'\n",
    "    else:\n",
    "        return 'letter_grade = Fail'\n",
    "\n",
    "\n",
    "\n",
    "def grade_calculator():\n",
    "    if score > 100 or score <0: # & is and\n",
    "        print('please input a realistic score:') #once a return statement is made it stops the run so the next line will never be reached\n",
    "        incomplete_grade_calculator()\n",
    "    else:\n",
    "        incomplete_grade_calculator()\n",
    "\n",
    "grade_calculator()"
   ]
  },
  {
   "cell_type": "code",
   "execution_count": null,
   "id": "1ea6d831",
   "metadata": {},
   "outputs": [
    {
     "name": "stdout",
     "output_type": "stream",
     "text": [
      "A\n"
     ]
    }
   ],
   "source": [
    "#corrections version 1 (this one actually works)\n",
    "score = int(input(\"Enter the student's score: \"))\n",
    "\n",
    "if score > 100 or score < 0:\n",
    "    score = input(\"Please input a realistic score: \")\n",
    "elif 70 <= score <= 100:\n",
    "    grade = \"A\"\n",
    "elif 50<= score <= 69:\n",
    "    grade = 'B'\n",
    "elif 35 <= score <= 49:\n",
    "    grade = 'C'\n",
    "else:\n",
    "    grade = 'fail'\n",
    "    \n",
    "print(grade)"
   ]
  },
  {
   "cell_type": "code",
   "execution_count": null,
   "id": "84287bdd",
   "metadata": {},
   "outputs": [],
   "source": []
  }
 ],
 "metadata": {
  "kernelspec": {
   "display_name": "Python 3",
   "language": "python",
   "name": "python3"
  },
  "language_info": {
   "codemirror_mode": {
    "name": "ipython",
    "version": 3
   },
   "file_extension": ".py",
   "mimetype": "text/x-python",
   "name": "python",
   "nbconvert_exporter": "python",
   "pygments_lexer": "ipython3",
   "version": "3.11.13"
  },
  "toc": {
   "base_numbering": 1,
   "nav_menu": {},
   "number_sections": true,
   "sideBar": true,
   "skip_h1_title": false,
   "title_cell": "Table of Contents",
   "title_sidebar": "Contents",
   "toc_cell": false,
   "toc_position": {},
   "toc_section_display": true,
   "toc_window_display": false
  },
  "vscode": {
   "interpreter": {
    "hash": "31f2aee4e71d21fbe5cf8b01ff0e069b9275f58929596ceb00d14d90e3e16cd6"
   }
  }
 },
 "nbformat": 4,
 "nbformat_minor": 5
}
