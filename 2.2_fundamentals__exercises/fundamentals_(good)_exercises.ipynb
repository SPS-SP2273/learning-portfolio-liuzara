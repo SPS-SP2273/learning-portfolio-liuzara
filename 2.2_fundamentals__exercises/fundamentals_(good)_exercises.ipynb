{
 "cells": [
  {
   "attachments": {},
   "cell_type": "markdown",
   "id": "123456",
   "metadata": {},
   "source": [
    "<div style=\"text-align:left;font-size:2em\"><span style=\"font-weight:bolder;font-size:1.25em\">SP2273 | Learning Portfolio</span><br><br><span style=\"font-weight:bold;color:darkred\">Fundamentals (Good) Exercises</span></div>"
   ]
  },
  {
   "cell_type": "code",
   "execution_count": 6,
   "id": "8f180b88",
   "metadata": {},
   "outputs": [
    {
     "name": "stdout",
     "output_type": "stream",
     "text": [
      "You entered 4\n"
     ]
    }
   ],
   "source": [
    "user_input = input('Please provide me with a number?')\n",
    "print('You entered', user_input)"
   ]
  },
  {
   "cell_type": "code",
   "execution_count": 1,
   "id": "0dae27a2",
   "metadata": {},
   "outputs": [
    {
     "name": "stdout",
     "output_type": "stream",
     "text": [
      "How you doin name !\n"
     ]
    }
   ],
   "source": [
    "user_input = input('what is your name?')\n",
    "print(\"How you doin\", user_input, \"!\")"
   ]
  },
  {
   "cell_type": "code",
   "execution_count": 2,
   "id": "296a8f88",
   "metadata": {},
   "outputs": [
    {
     "name": "stdout",
     "output_type": "stream",
     "text": [
      "My name is hehe and I am 0 years old.\n"
     ]
    }
   ],
   "source": [
    "name = input('whats your name?') #can name the input anything, but the format will always be a string \n",
    "age = input('what is your age?')\n",
    "print(\"My name is\", name, \"and I am\", age, \"years old.\")"
   ]
  },
  {
   "cell_type": "code",
   "execution_count": null,
   "id": "f70540ce",
   "metadata": {},
   "outputs": [
    {
     "name": "stdout",
     "output_type": "stream",
     "text": [
      "the value of pi 2 decimal places is: 3.14\n",
      "the value of pi to 3 decimal places is: 3.142\n",
      "the value of pi at 4 decimal places is 3.1416\n"
     ]
    }
   ],
   "source": [
    "import math \n",
    "\n",
    "pi = math.pi # this is how you get the exact sequence of pi \n",
    "print('the value of pi 2 decimal places is:',round(pi,2)) #this rounds the value pi to 2dp\n",
    "print('the value of pi to 3 decimal places is:',round(pi,3)) #this rounds the value of pi to 3dp\n",
    "print(\"the value of pi at 4 decimal places is\",round(pi,4)) #this rounds the value of pi to 4dp "
   ]
  },
  {
   "cell_type": "code",
   "execution_count": null,
   "id": "bfb2dad2",
   "metadata": {},
   "outputs": [
    {
     "name": "stdout",
     "output_type": "stream",
     "text": [
      "[70, 71, 72, 73, 74, 75, 76, 77, 78, 79, 80, 81, 82, 83, 84, 85, 86, 87, 88, 89, 90, 91, 92, 93, 94, 95, 96, 97, 98, 99, 100]\n",
      "[50, 51, 52, 53, 54, 55, 56, 57, 58, 59, 60, 61, 62, 63, 64, 65, 66, 67, 68, 69]\n",
      "[35, 36, 37, 38, 39, 40, 41, 42, 43, 44, 45, 46, 47, 48, 49]\n",
      "[0, 1, 2, 3, 4, 5, 6, 7, 8, 9, 10, 11, 12, 13, 14, 15, 16, 17, 18, 19, 20, 21, 22, 23, 24, 25, 26, 27, 28, 29, 30, 31, 32, 33, 34]\n",
      "The student's letter grade is: A\n"
     ]
    }
   ],
   "source": [
    "grade_a = list(range(70,101)) #the list() is very important as it is the thing that \n",
    "                                #allows all of the things in the range to be counted \n",
    "                                #if it were a range you cant use one element in it\n",
    "print(grade_a)\n",
    "grade_b = list(range(50,70))\n",
    "print(grade_b)\n",
    "grade_c = list(range(35,50))\n",
    "print(grade_c)\n",
    "failed = list(range(35))\n",
    "print(failed)\n",
    "\n",
    "students_score = int(input('what is the students score in integer form?')) #makes the input an integer \n",
    "response = f\"The student's letter grade is:\"\n",
    "\n",
    "if grade_a[0] < students_score < grade_a[-1]: #the use of the [] makes the code pick up the number the index says so its a int \n",
    "    print(response,\"A\")\n",
    "elif grade_b[0] < students_score < grade_b[-1]:\n",
    "    print(response,\"B\")\n",
    "elif grade_c[0] < students_score < grade_c[-1]:\n",
    "    print(response,\"C\")\n",
    "elif failed[0] < students_score < failed[-1]:\n",
    "    print(response, \"Fail\")\n",
    "else:\n",
    "    print(\"You have not entered a valid score\")\n"
   ]
  },
  {
   "cell_type": "code",
   "execution_count": 14,
   "id": "68e29f12",
   "metadata": {},
   "outputs": [
    {
     "name": "stdout",
     "output_type": "stream",
     "text": [
      "120\n",
      "Invalid input\n"
     ]
    }
   ],
   "source": [
    "def factorial(n):\n",
    "    if n < 0:\n",
    "        return \"Invalid input\"\n",
    "    elif n == 0:\n",
    "        return 1\n",
    "    else:\n",
    "        result = 1\n",
    "        for number in range(1, n+1): #107µs with list, 106µs without list. \n",
    "                                    #The for loop allows us to not put a list\n",
    "            result *= number\n",
    "        return result\n",
    "\n",
    "\n",
    "print(factorial(5))   # Testing, expected output: 120\n",
    "print(factorial(-1))  # Testing, expected output: Invalid input"
   ]
  }
 ],
 "metadata": {
  "kernelspec": {
   "display_name": "Python 3",
   "language": "python",
   "name": "python3"
  },
  "language_info": {
   "codemirror_mode": {
    "name": "ipython",
    "version": 3
   },
   "file_extension": ".py",
   "mimetype": "text/x-python",
   "name": "python",
   "nbconvert_exporter": "python",
   "pygments_lexer": "ipython3",
   "version": "3.11.13"
  },
  "toc": {
   "base_numbering": 1,
   "nav_menu": {},
   "number_sections": true,
   "sideBar": true,
   "skip_h1_title": false,
   "title_cell": "Table of Contents",
   "title_sidebar": "Contents",
   "toc_cell": false,
   "toc_position": {},
   "toc_section_display": true,
   "toc_window_display": false
  },
  "vscode": {
   "interpreter": {
    "hash": "31f2aee4e71d21fbe5cf8b01ff0e069b9275f58929596ceb00d14d90e3e16cd6"
   }
  }
 },
 "nbformat": 4,
 "nbformat_minor": 5
}
