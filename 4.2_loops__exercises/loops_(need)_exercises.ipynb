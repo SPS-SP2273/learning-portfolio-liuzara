{
 "cells": [
  {
   "attachments": {},
   "cell_type": "markdown",
   "id": "123456",
   "metadata": {},
   "source": [
    "<div style=\"text-align:left;font-size:2em\"><span style=\"font-weight:bolder;font-size:1.25em\">SP2273 | Learning Portfolio</span><br><br><span style=\"font-weight:bold;color:darkred\">Loops (Need) Exercises</span></div>"
   ]
  },
  {
   "cell_type": "code",
   "execution_count": null,
   "id": "3eb6855f",
   "metadata": {},
   "outputs": [
    {
     "name": "stdout",
     "output_type": "stream",
     "text": [
      "[ 0  5 10 15 20 25 30 35 40 45 50]\n",
      "32.0, 0\n",
      "41.0, 5\n",
      "50.0, 10\n",
      "59.0, 15\n",
      "68.0, 20\n",
      "77.0, 25\n",
      "86.0, 30\n",
      "95.0, 35\n",
      "104.0, 40\n",
      "113.0, 45\n",
      "122.0, 50\n"
     ]
    }
   ],
   "source": [
    "#i might have to redo this bc i switched btw numpy and the string \n",
    "\n",
    "import numpy as np\n",
    "temperatures_celsius = ([\n",
    "    0, 5, 10, 15, 20, 25,\n",
    "    30, 35, 40, 45, 50\n",
    "])\n",
    "\n",
    "temperatures = np.array(temperatures_celsius)\n",
    "print(temperatures)\n",
    "\n",
    "farenheight2 = [] #have to create this list outside of the loop otherwise it will keep creating a new list everytime this loops\n",
    "\n",
    "for i in temperatures:\n",
    "    farenheight = (i * 9/5) + 32\n",
    "    #print(farenheight) #each farenheight is a differnt number, its not a list \n",
    "    farenheight2 = np.append(farenheight2, farenheight)  \n",
    "    for index, tempF in enumerate (farenheight2):\n",
    "        temperatures_listed = temperatures[index] #lists the temperatures one by one bc the index kind of loops one by one since index is in the loop\n",
    "    print(f'{tempF}, {temperatures_listed}') #nested loop print outside the loop once everything has run\n"
   ]
  },
  {
   "cell_type": "code",
   "execution_count": 4,
   "id": "c297bc61",
   "metadata": {},
   "outputs": [
    {
     "name": "stdout",
     "output_type": "stream",
     "text": [
      "A1\tA2\tA3\t\n",
      "\n",
      "B1\tB2\tB3\t\n",
      "\n",
      "C1\tC2\tC3\t\n",
      "\n"
     ]
    }
   ],
   "source": [
    "for letter in ['A', 'B', 'C']:\n",
    "    for number in [1, 2, 3]:\n",
    "        print(f'{letter}{number}', end='\\t')\n",
    "    print('\\n')"
   ]
  },
  {
   "cell_type": "code",
   "execution_count": null,
   "id": "781632d5",
   "metadata": {},
   "outputs": [
    {
     "name": "stdout",
     "output_type": "stream",
     "text": [
      "1 :1   2   3   4   5   \n",
      "2 :2   4   6   8   10  \n",
      "3 :3   6   9   12  15  \n",
      "4 :4   8   12  16  20  \n",
      "5 :5   10  15  20  25  \n",
      "\n",
      "\n"
     ]
    }
   ],
   "source": [
    "\n",
    "\n",
    "row = '' #make new string\n",
    "for i in range(1,6):\n",
    "        row += f'{i} :' #adds to string\n",
    "        for j in range(1,6): # j is used bc it takes the number one per loop \n",
    "                row += f'{i*j:<4}' # adds i*j to the list, the :<4 formats the thing to have 4 spaces, and aligns left\n",
    "        print(row)\n",
    "        row = ''\n",
    "print('\\n')"
   ]
  },
  {
   "cell_type": "code",
   "execution_count": null,
   "id": "e4774f3f",
   "metadata": {},
   "outputs": [
    {
     "name": "stdout",
     "output_type": "stream",
     "text": [
      "Expieriment 0 : No. of Heads = 5.0\n",
      "Expieriment 1 : No. of Heads = 3.0\n",
      "Expieriment 2 : No. of Heads = 6.0\n",
      "Expieriment 3 : No. of Heads = 5.0\n",
      "Expieriment 4 : No. of Heads = 3.0\n",
      "Expieriment 5 : No. of Heads = 4.0\n",
      "Expieriment 6 : No. of Heads = 3.0\n",
      "Expieriment 7 : No. of Heads = 5.0\n",
      "Expieriment 8 : No. of Heads = 3.0\n",
      "Expieriment 9 : No. of Heads = 6.0\n"
     ]
    }
   ],
   "source": [
    "import numpy as np\n",
    "\n",
    "for i in range(10): #generates 10 random numbers and performs the calculation for each time a random number is generated\n",
    "    x = np.random.rand(10) \n",
    "    x[x>0.5] = 1 #masking\n",
    "    x[x<0.5] = 0 #masking\n",
    "    headscount = np.sum(x)\n",
    "    print('Expieriment', i , ': No. of Heads =', headscount)\n",
    "\n"
   ]
  }
 ],
 "metadata": {
  "kernelspec": {
   "display_name": "Python 3",
   "language": "python",
   "name": "python3"
  },
  "language_info": {
   "codemirror_mode": {
    "name": "ipython",
    "version": 3
   },
   "file_extension": ".py",
   "mimetype": "text/x-python",
   "name": "python",
   "nbconvert_exporter": "python",
   "pygments_lexer": "ipython3",
   "version": "3.11.13"
  },
  "toc": {
   "base_numbering": 1,
   "nav_menu": {},
   "number_sections": true,
   "sideBar": true,
   "skip_h1_title": false,
   "title_cell": "Table of Contents",
   "title_sidebar": "Contents",
   "toc_cell": false,
   "toc_position": {},
   "toc_section_display": true,
   "toc_window_display": false
  },
  "vscode": {
   "interpreter": {
    "hash": "31f2aee4e71d21fbe5cf8b01ff0e069b9275f58929596ceb00d14d90e3e16cd6"
   }
  }
 },
 "nbformat": 4,
 "nbformat_minor": 5
}
