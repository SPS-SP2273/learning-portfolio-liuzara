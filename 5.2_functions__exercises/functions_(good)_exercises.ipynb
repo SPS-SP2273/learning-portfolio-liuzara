{
 "cells": [
  {
   "attachments": {},
   "cell_type": "markdown",
   "id": "123456",
   "metadata": {},
   "source": [
    "<div style=\"text-align:left;font-size:2em\"><span style=\"font-weight:bolder;font-size:1.25em\">SP2273 | Learning Portfolio</span><br><br><span style=\"font-weight:bold;color:darkred\">Functions (Good) Exercises</span></div>"
   ]
  },
  {
   "cell_type": "code",
   "execution_count": null,
   "id": "7792108c",
   "metadata": {},
   "outputs": [
    {
     "data": {
      "text/plain": [
       "273.15"
      ]
     },
     "execution_count": 4,
     "metadata": {},
     "output_type": "execute_result"
    }
   ],
   "source": [
    "temperature = int(input('what is the temperature in celsius?'))\n",
    "target_scale = input('fahrenheit or kelvin?')\n",
    "\n",
    "def convert_celsius(temperature):\n",
    "    if target_scale == 'fahrenheit': # define farenheight? must be a string. this is impt\n",
    "        return (temperature * 9/5) + 32 \n",
    "    else:\n",
    "        return temperature + 273.15\n",
    "\n",
    "convert_celsius(temperature) #testing for 0celsius conversion"
   ]
  },
  {
   "cell_type": "code",
   "execution_count": null,
   "id": "439e201b",
   "metadata": {},
   "outputs": [
    {
     "data": {
      "text/plain": [
       "255.3722222222222"
      ]
     },
     "execution_count": 8,
     "metadata": {},
     "output_type": "execute_result"
    }
   ],
   "source": [
    "temperature = int(input('whats the temp in farenheight?')) #must be an integer this is also v impt \n",
    "target_scale = input('celsius or kelvin?')\n",
    "\n",
    "def convert_fahrenheit(temperature): #should include the temp farenheight bc its very specific\n",
    "    if target_scale == 'kelvin':\n",
    "        return (temperature - 32) * 5/9 + 273.15 #conversion to K\n",
    "    else:\n",
    "        return (temperature - 32) * 5/9 #conversion to celsius\n",
    "    \n",
    "convert_fahrenheit(temperature)"
   ]
  },
  {
   "cell_type": "code",
   "execution_count": 6,
   "id": "f3859d65",
   "metadata": {},
   "outputs": [
    {
     "data": {
      "text/plain": [
       "-223.14999999999998"
      ]
     },
     "execution_count": 6,
     "metadata": {},
     "output_type": "execute_result"
    }
   ],
   "source": [
    "temperature = int(input('what is the temperature in kelvin'))\n",
    "target_scale = input('celsius or fahrenheit')\n",
    "\n",
    "def convert_kelvin(temperature):\n",
    "    if target_scale == 'celsius':\n",
    "        return (temperature - 273.15)\n",
    "    else:\n",
    "        return (temperature - 273.25) * 9/5 + 32\n",
    "    \n",
    "convert_kelvin(temperature)"
   ]
  },
  {
   "cell_type": "code",
   "execution_count": 2,
   "id": "6cd0375c",
   "metadata": {},
   "outputs": [
    {
     "data": {
      "text/plain": [
       "15.555555555555555"
      ]
     },
     "execution_count": 2,
     "metadata": {},
     "output_type": "execute_result"
    }
   ],
   "source": [
    "target_scale = input('kelvin celsius or fahrenheit?')\n",
    "given_scale = input('kelvin, celsius or fahrenheit?')\n",
    "given_temperature = int(input('what is the temp?'))\n",
    "\n",
    "def convert_temperature(given_temperature):\n",
    "    if target_scale == \"fahrenheit\":\n",
    "        if given_scale == \"celsius\":\n",
    "            return (given_temperature * 9/5) + 32 #converts celsius to fahrenheit\n",
    "        elif given_scale == 'fahrenheit':\n",
    "            return given_temperature #no need to coonvert\n",
    "        else:\n",
    "            return (given_temperature - 273.15) * 9/5 + 32 #converts kelvin to fahrenheit\n",
    "    elif target_scale == \"celsius\":\n",
    "        if given_scale == 'kelvin':\n",
    "            return given_temperature - 273.15 #kelvin to celsius\n",
    "        elif given_scale == 'celsius':\n",
    "            return given_temperature #no need to convert\n",
    "        else: #fahrenheit\n",
    "            return (given_temperature - 32) * 5/9 #fahrenheit to celsius \n",
    "    else: #kelvin\n",
    "        if given_scale == 'farenheight':\n",
    "            return (given_temperature - 32) * 5/9 + 273.15 #fahrenheit to kelvin\n",
    "        elif given_scale == 'kelvin':\n",
    "            return given_temperature #no need to convert\n",
    "        else: #celsius\n",
    "            return given_temperature + 273.15 #celsius to kelvin\n",
    "        \n",
    "convert_temperature(given_temperature)"
   ]
  },
  {
   "cell_type": "code",
   "execution_count": 1,
   "id": "327b1c04",
   "metadata": {},
   "outputs": [
    {
     "data": {
      "text/plain": [
       "'nothing to convert'"
      ]
     },
     "execution_count": 1,
     "metadata": {},
     "output_type": "execute_result"
    }
   ],
   "source": [
    "#eating the toblerone\n",
    "\n",
    "def unit_conversion(temperature):\n",
    "    changed_unit = input('what to convert to?')\n",
    "    initial_unit = input('what is the original unit?')\n",
    "    if initial_unit == changed_unit:\n",
    "        return 'nothing to convert'\n",
    "    elif initial_unit == 'celsius':\n",
    "        convert_celsius(temperature)\n",
    "    elif initial_unit == 'fahrenheit':\n",
    "        convert_fahrenheit(temperature)\n",
    "    elif initial_unit == 'kelvin':\n",
    "        convert_kelvin(temperature)\n",
    "    else:\n",
    "        return 'not an applicable unit'\n",
    "\n",
    "unit_conversion(2000)\n"
   ]
  }
 ],
 "metadata": {
  "kernelspec": {
   "display_name": "Python 3",
   "language": "python",
   "name": "python3"
  },
  "language_info": {
   "codemirror_mode": {
    "name": "ipython",
    "version": 3
   },
   "file_extension": ".py",
   "mimetype": "text/x-python",
   "name": "python",
   "nbconvert_exporter": "python",
   "pygments_lexer": "ipython3",
   "version": "3.11.13"
  },
  "toc": {
   "base_numbering": 1,
   "nav_menu": {},
   "number_sections": true,
   "sideBar": true,
   "skip_h1_title": false,
   "title_cell": "Table of Contents",
   "title_sidebar": "Contents",
   "toc_cell": false,
   "toc_position": {},
   "toc_section_display": true,
   "toc_window_display": false
  },
  "vscode": {
   "interpreter": {
    "hash": "31f2aee4e71d21fbe5cf8b01ff0e069b9275f58929596ceb00d14d90e3e16cd6"
   }
  }
 },
 "nbformat": 4,
 "nbformat_minor": 5
}
