{
 "cells": [
  {
   "attachments": {},
   "cell_type": "markdown",
   "id": "123456",
   "metadata": {},
   "source": [
    "<div style=\"text-align:left;font-size:2em\"><span style=\"font-weight:bolder;font-size:1.25em\">SP2273 | Learning Portfolio</span><br><br><span style=\"font-weight:bold;color:darkred\">Functions (Good) Exercises</span></div>"
   ]
  },
  {
   "cell_type": "code",
   "execution_count": null,
   "id": "7792108c",
   "metadata": {},
   "outputs": [
    {
     "data": {
      "text/plain": [
       "273.15"
      ]
     },
     "execution_count": 4,
     "metadata": {},
     "output_type": "execute_result"
    }
   ],
   "source": [
    "temperature_celsius = int(input('what is the temperature in celsius?'))\n",
    "target_scale = input('farenheight or kelvin?')\n",
    "\n",
    "def convert_celsius(temperature_celsius):\n",
    "    if target_scale == 'farenheight': # define farenheight? must be a string. this is impt\n",
    "        return (temperature_celsius * 9/5) + 32 \n",
    "    else:\n",
    "        return temperature_celsius + 273.15\n",
    "\n",
    "convert_celsius(temperature_celsius) #testing for 0celsius conversion"
   ]
  },
  {
   "cell_type": "code",
   "execution_count": null,
   "id": "439e201b",
   "metadata": {},
   "outputs": [
    {
     "data": {
      "text/plain": [
       "255.3722222222222"
      ]
     },
     "execution_count": 8,
     "metadata": {},
     "output_type": "execute_result"
    }
   ],
   "source": [
    "temperature_farenheight = int(input('whats the temp in farenheight?')) #must be an integer this is also v impt \n",
    "target_scale = input('celsius or kelvin?')\n",
    "\n",
    "def convert_farenheight(temperature_farenheight): #should include the temp farenheight bc its very specific\n",
    "    if target_scale == 'kelvin':\n",
    "        return (temperature_farenheight - 32) * 5/9 + 273.15 #conversion to K\n",
    "    else:\n",
    "        return (temperature_farenheight - 32) * 5/9 #conversion to celsius\n",
    "    \n",
    "convert_farenheight(temperature_farenheight)"
   ]
  },
  {
   "cell_type": "code",
   "execution_count": 10,
   "id": "6cd0375c",
   "metadata": {},
   "outputs": [
    {
     "data": {
      "text/plain": [
       "50"
      ]
     },
     "execution_count": 10,
     "metadata": {},
     "output_type": "execute_result"
    }
   ],
   "source": [
    "target_scale = input('kelvin celsius or farenheight?')\n",
    "given_scale = input('kelvin, celsius or farenheight?')\n",
    "given_temperature = int(input('what is the temp?'))\n",
    "\n",
    "def convert_temperature(given_temperature):\n",
    "    if target_scale == \"farenheight\":\n",
    "        if given_scale == \"celsius\":\n",
    "            return (given_temperature * 9/5) + 32 #converts celsius to farenheight\n",
    "        elif given_scale == 'farenheight':\n",
    "            return given_temperature #no need to coonvert\n",
    "        else:\n",
    "            return (given_temperature - 273.15) * 9/5 + 32 #converts kelvin to farenheight\n",
    "    elif target_scale == \"celsius\":\n",
    "        if given_scale == 'kelvin':\n",
    "            return given_temperature - 273.15 #kelvin to celsius\n",
    "        elif given_scale == 'celsius':\n",
    "            return given_temperature #no need to convert\n",
    "        else: #farenheight\n",
    "            return (given_temperature - 32) * 5/9 #farenheight to celsius \n",
    "    else: #kelvin\n",
    "        if given_scale == 'farenheight':\n",
    "            return (given_temperature - 32) * 5/9 + 273.15 #farenheight to kelvin\n",
    "        elif given_scale == 'kelvin':\n",
    "            return given_temperature #no need to convert\n",
    "        else: #celsius\n",
    "            return given_temperature + 273.15 #celsius to kelvin\n",
    "        \n",
    "convert_temperature(given_temperature)"
   ]
  }
 ],
 "metadata": {
  "kernelspec": {
   "display_name": "Python 3",
   "language": "python",
   "name": "python3"
  },
  "language_info": {
   "codemirror_mode": {
    "name": "ipython",
    "version": 3
   },
   "file_extension": ".py",
   "mimetype": "text/x-python",
   "name": "python",
   "nbconvert_exporter": "python",
   "pygments_lexer": "ipython3",
   "version": "3.11.13"
  },
  "toc": {
   "base_numbering": 1,
   "nav_menu": {},
   "number_sections": true,
   "sideBar": true,
   "skip_h1_title": false,
   "title_cell": "Table of Contents",
   "title_sidebar": "Contents",
   "toc_cell": false,
   "toc_position": {},
   "toc_section_display": true,
   "toc_window_display": false
  },
  "vscode": {
   "interpreter": {
    "hash": "31f2aee4e71d21fbe5cf8b01ff0e069b9275f58929596ceb00d14d90e3e16cd6"
   }
  }
 },
 "nbformat": 4,
 "nbformat_minor": 5
}
