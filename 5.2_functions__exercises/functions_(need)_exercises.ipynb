{
 "cells": [
  {
   "attachments": {},
   "cell_type": "markdown",
   "id": "123456",
   "metadata": {},
   "source": [
    "<div style=\"text-align:left;font-size:2em\"><span style=\"font-weight:bolder;font-size:1.25em\">SP2273 | Learning Portfolio</span><br><br><span style=\"font-weight:bold;color:darkred\">Functions (Need) Exercises</span></div>"
   ]
  },
  {
   "cell_type": "markdown",
   "id": "23530d3f",
   "metadata": {},
   "source": [
    "**Q. The following code works as expected despite not having an else statement. Please use a Markdown cell to explain why?**\n",
    "\n",
    "It is as name is a variable, and there is no scenario where the input is not a name as the input is a string. Hence there is no else."
   ]
  },
  {
   "cell_type": "markdown",
   "id": "57abac5e",
   "metadata": {},
   "source": [
    "Write a Python function named calculate_bmi.\n",
    "\n",
    "The function should take two parameters:\n",
    "weight (in kilograms) and height (in meters).\n",
    "The function should calculate the BMI (Body Mass Index) using the formula BMI = weight / (height ** 2).\n",
    "Based on the calculated BMI, the function should return a string indicating the BMI category based on the following criteria:\n",
    "Category\tBMI Range\n",
    "Underweight\tBMI less than 18.5\n",
    "Normal weight\tBMI between 18.5 and 24.9\n",
    "Overweight\tBMI between 25 and 29.9\n",
    "Obese\tBMI 30 or more\n"
   ]
  },
  {
   "cell_type": "code",
   "execution_count": 13,
   "id": "f6b598e5",
   "metadata": {},
   "outputs": [
    {
     "name": "stdout",
     "output_type": "stream",
     "text": [
      "16.3265306122449\n"
     ]
    },
    {
     "data": {
      "text/plain": [
       "'underweight'"
      ]
     },
     "execution_count": 13,
     "metadata": {},
     "output_type": "execute_result"
    }
   ],
   "source": [
    "#calculate_bmi\n",
    "weight = int(input('what is your weight in kg?'))\n",
    "height = float(input('what is your heihgt in meters?'))\n",
    "\n",
    "BMI = weight/(height**2)\n",
    "print(BMI)\n",
    "\n",
    "def calculate_bmi(BMI):\n",
    "    if BMI < 18.5:\n",
    "        return 'underweight'\n",
    "    elif BMI > 30:\n",
    "        return 'obese'\n",
    "    elif 18.5 < BMI < 24.9:\n",
    "        return 'normal'\n",
    "    else:\n",
    "        return 'overweight'\n",
    "\n",
    "calculate_bmi(BMI)\n"
   ]
  },
  {
   "cell_type": "code",
   "execution_count": 6,
   "id": "c2dc5692",
   "metadata": {},
   "outputs": [
    {
     "data": {
      "text/plain": [
       "40320"
      ]
     },
     "execution_count": 6,
     "metadata": {},
     "output_type": "execute_result"
    }
   ],
   "source": [
    "#Exercise 3 (Factorials) Write a function that accepts an integer n and returns its factorial. Ensure that your function gracefully handles negative numbers.\n",
    "# I feel like it is important to point out that the answer has been given to us as a previous debugging exercise but free answers yay\n",
    "import numpy as np\n",
    "\n",
    "n = int(input('enter an integer'))\n",
    "\n",
    "def factorial(n):\n",
    "    if n == 0:\n",
    "        return 1\n",
    "    elif n < 0:\n",
    "        return \"invalid input, please out in an int bigger than or equal 0\"\n",
    "    else: \n",
    "        result = 1\n",
    "        for i in range(1,n+1):\n",
    "            result *= i\n",
    "        return result\n",
    "\n",
    "factorial(n)"
   ]
  },
  {
   "cell_type": "code",
   "execution_count": null,
   "id": "afb20246",
   "metadata": {},
   "outputs": [
    {
     "data": {
      "text/plain": [
       "'Hello Super Man!'"
      ]
     },
     "execution_count": 3,
     "metadata": {},
     "output_type": "execute_result"
    }
   ],
   "source": [
    "my_short_function = lambda name: f\"Hello {name}!\"\n",
    "my_short_function(name=\"Super Man\")"
   ]
  },
  {
   "cell_type": "code",
   "execution_count": 4,
   "id": "a93230f2",
   "metadata": {},
   "outputs": [
    {
     "data": {
      "text/plain": [
       "(1, 5, 2, 3, 4)"
      ]
     },
     "execution_count": 4,
     "metadata": {},
     "output_type": "execute_result"
    }
   ],
   "source": [
    "x, *_, y = [1, 2, 3, 4, 5]\n",
    "x, y, *_"
   ]
  },
  {
   "cell_type": "code",
   "execution_count": 8,
   "id": "34cc5911",
   "metadata": {},
   "outputs": [
    {
     "data": {
      "text/plain": [
       "(np.int64(1), [np.int64(2), np.int64(3), np.int64(4)], np.int64(5))"
      ]
     },
     "execution_count": 8,
     "metadata": {},
     "output_type": "execute_result"
    }
   ],
   "source": [
    "import numpy as np\n",
    "\n",
    "x, *y, z = np.array([1, 2, 3, 4, 5]) #puts the elements that are left in a list \n",
    "x, y, z"
   ]
  },
  {
   "cell_type": "code",
   "execution_count": null,
   "id": "aee72366",
   "metadata": {},
   "outputs": [
    {
     "data": {
      "text/plain": [
       "2"
      ]
     },
     "execution_count": 9,
     "metadata": {},
     "output_type": "execute_result"
    }
   ],
   "source": [
    "def multiply(x, y):\n",
    "    return x * y\n",
    "\n",
    "numbers = [1, 2]\n",
    "multiply(*numbers) #unzips thet numbers so the elements are accessed?, For keyword numbers use **to unzip"
   ]
  },
  {
   "cell_type": "code",
   "execution_count": null,
   "id": "9c796353",
   "metadata": {},
   "outputs": [],
   "source": [
    "def multiply(*args):\n",
    "    result = 1\n",
    "    for number in args:\n",
    "        result *= number\n",
    "\n",
    "    return result\n",
    "\n",
    "numbers = [1, 2, 3]\n",
    "multiply(*numbers) #replaces *args with *numbers\n",
    "multiply(1, 2, 3, 4, 5)"
   ]
  },
  {
   "cell_type": "code",
   "execution_count": null,
   "id": "bb176a09",
   "metadata": {},
   "outputs": [],
   "source": [
    "def do_something(inside_number, inside_array, inside_list):\n",
    "    print('Doing something!')\n",
    "    inside_number *= 2\n",
    "    inside_array *= 2\n",
    "    inside_list *= 2\n",
    "\n",
    "    print(f\"INSIDE|\\tNumber: {inside_number}(id: {id(inside_number)}), Array: {inside_array}(id: {id(inside_array)}), List: {inside_list}(id: {id(inside_list)})\")\n",
    "\n",
    "outside_number = 10\n",
    "outside_array = np.array([10])\n",
    "outside_list = [10]\n",
    "\n",
    "print(f\"BEFORE|\\tNumber: {outside_number}(id: {id(outside_number)}), Array: {outside_array}(id: {id(outside_array)}), List: {outside_list}(id: {id(outside_list)})\")\n",
    "do_something(outside_number, outside_array, outside_list)\n",
    "print(f\"AFTER|\\tNumber: {outside_number}(id: {id(outside_number)}), Array: {outside_array}(id: {id(outside_array)}), List: {outside_list}(id: {id(outside_list)})\")"
   ]
  }
 ],
 "metadata": {
  "kernelspec": {
   "display_name": "Python 3",
   "language": "python",
   "name": "python3"
  },
  "language_info": {
   "codemirror_mode": {
    "name": "ipython",
    "version": 3
   },
   "file_extension": ".py",
   "mimetype": "text/x-python",
   "name": "python",
   "nbconvert_exporter": "python",
   "pygments_lexer": "ipython3",
   "version": "3.11.13"
  },
  "toc": {
   "base_numbering": 1,
   "nav_menu": {},
   "number_sections": true,
   "sideBar": true,
   "skip_h1_title": false,
   "title_cell": "Table of Contents",
   "title_sidebar": "Contents",
   "toc_cell": false,
   "toc_position": {},
   "toc_section_display": true,
   "toc_window_display": false
  },
  "vscode": {
   "interpreter": {
    "hash": "31f2aee4e71d21fbe5cf8b01ff0e069b9275f58929596ceb00d14d90e3e16cd6"
   }
  }
 },
 "nbformat": 4,
 "nbformat_minor": 5
}
