{
 "cells": [
  {
   "attachments": {},
   "cell_type": "markdown",
   "id": "123456",
   "metadata": {},
   "source": [
    "<div style=\"text-align:left;font-size:2em\"><span style=\"font-weight:bolder;font-size:1.25em\">SP2273 | Learning Portfolio</span><br><br><span style=\"font-weight:bold;color:darkred\">Using Jupyter (Need), Exercises</span></div>"
   ]
  },
  {
   "attachments": {},
   "cell_type": "markdown",
   "id": "123456",
   "metadata": {},
   "source": [
    "## 1 Quadratic Equations"
   ]
  },
  {
   "attachments": {},
   "cell_type": "markdown",
   "id": "123456",
   "metadata": {},
   "source": [
    "### Introduction"
   ]
  },
  {
   "cell_type": "markdown",
   "id": "fa8b8550",
   "metadata": {},
   "source": [
    "![lol your code is wrong](https://upload.wikimedia.org/wikipedia/commons/thumb/f/f8/Polynomialdeg2.svg/300px-Polynomialdeg2.svg.png)"
   ]
  },
  {
   "cell_type": "markdown",
   "id": "2c7ee285",
   "metadata": {},
   "source": [
    "(Image from the Wikipedia page on Quadratic equatoins)"
   ]
  },
  {
   "cell_type": "markdown",
   "id": "9b406a0a",
   "metadata": {},
   "source": [
    "The general form of a quadratic equation is: \n",
    "$$ax^2 + bx +c = 0$$"
   ]
  },
  {
   "attachments": {},
   "cell_type": "markdown",
   "id": "123456",
   "metadata": {},
   "source": [
    "### Solutions"
   ]
  },
  {
   "cell_type": "markdown",
   "id": "e0fb7310",
   "metadata": {},
   "source": [
    "Provided $a\\neq0$, we can use an elementary algebraic method called [completing the square](https://en.wikipedia.org/wiki/Completing_the_square) "
   ]
  },
  {
   "cell_type": "markdown",
   "id": "bb699501",
   "metadata": {},
   "source": [
    "$$x = \\frac{-b \\pm \\sqrt{b^2-4ac}}{2a}$$"
   ]
  },
  {
   "attachments": {},
   "cell_type": "markdown",
   "id": "123456",
   "metadata": {},
   "source": [
    "### Discriminant"
   ]
  },
  {
   "cell_type": "markdown",
   "id": "123456",
   "metadata": {},
   "source": [
    "The quantity $\\Delta=b^2-4ac$ is called the **discriminant** of the equation and decides the nature of its solutions. The table below shows the variouss possibilities.\n",
    "\n"
   ]
  },
  {
   "cell_type": "markdown",
   "id": "ec2533c1",
   "metadata": {},
   "source": [
    "|**Discriminant**   |**Roots**  |\n",
    "| :--- | ---: |\n",
    "|$\\Delta = b^2 - 4ac = 0$| A single solution of $b/(2a)$|\n",
    "|$\\Delta = b^2 - 4ac > 0$| Two distinct solutions|\n",
    "|$\\Delta = b^2 - 4ac < 0$| No real solutions; both are complex|"
   ]
  },
  {
   "cell_type": "markdown",
   "id": "b486cbb1",
   "metadata": {},
   "source": [
    "1. it is a palce that stores your data \n",
    "2. Git keeps track of history in the files of our repository. \n",
    "3. like a commitment to memory, it is the saved version of the file.\n",
    "4. a push is when something is uploaded onto the cloud of the computer \n",
    "5. a pull is when information is obtained form the cloud of the computer\n",
    "6. github hosts the repositories, while github desktop is an application that allows us to interact with git and github\n",
    "\n",
    "# ***need to review this***\n"
   ]
  },
  {
   "cell_type": "markdown",
   "id": "7e03cbda",
   "metadata": {},
   "source": [
    "$$\\mu = \\frac{1}{n} \\sum^n_{i=1} x_i$$"
   ]
  },
  {
   "cell_type": "markdown",
   "id": "65ee0da0",
   "metadata": {},
   "source": [
    "$$\\sigma = \\sqrt{\\frac{1}{n} \\Sigma ^n _{i=1} (x_i - \\mu)^2}$$\n"
   ]
  },
  {
   "cell_type": "markdown",
   "id": "ddfd16c8",
   "metadata": {},
   "source": [
    "$$r = \\frac{\\Sigma _{i=1} ^n (x_i - u_X)(y_i - \\mu_Y)}{\\sqrt{\\Sigma_{i=1}^n (x_i - \\mu_X)^2 \\Sigma_{i=1}^n (y_i -\\mu_Y)^2}}$$"
   ]
  }
 ],
 "metadata": {
  "kernelspec": {
   "display_name": "Python 3",
   "language": "python",
   "name": "python3"
  },
  "language_info": {
   "codemirror_mode": {
    "name": "ipython",
    "version": 3
   },
   "file_extension": ".py",
   "mimetype": "text/x-python",
   "name": "python",
   "nbconvert_exporter": "python",
   "pygments_lexer": "ipython3",
   "version": "3.11.13"
  },
  "toc": {
   "base_numbering": 1,
   "nav_menu": {},
   "number_sections": true,
   "sideBar": true,
   "skip_h1_title": false,
   "title_cell": "Table of Contents",
   "title_sidebar": "Contents",
   "toc_cell": false,
   "toc_position": {},
   "toc_section_display": true,
   "toc_window_display": false
  }
 },
 "nbformat": 4,
 "nbformat_minor": 5
}
